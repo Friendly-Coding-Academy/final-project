{
 "cells": [
  {
   "cell_type": "code",
   "execution_count": null,
   "id": "exotic-portuguese",
   "metadata": {},
   "outputs": [],
   "source": [
    "# Update sklearn to prevent version mismatches\n",
    "!pip install sklearn --upgrade"
   ]
  },
  {
   "cell_type": "markdown",
   "id": "proprietary-relief",
   "metadata": {},
   "source": [
    "## Dependencies"
   ]
  },
  {
   "cell_type": "code",
   "execution_count": 1,
   "id": "operational-lesson",
   "metadata": {},
   "outputs": [],
   "source": [
    "%matplotlib inline\n",
    "import pandas as pd\n",
    "import matplotlib.pyplot as plt\n",
    "import numpy as np\n",
    "import seaborn as sns\n",
    "import pymongo\n",
    "from sklearn.preprocessing import LabelEncoder, StandardScaler, MultiLabelBinarizer\n",
    "from sklearn.feature_extraction import DictVectorizer\n",
    "from sklearn.model_selection import train_test_split\n",
    "from sklearn.linear_model import LinearRegression\n",
    "from sklearn.metrics import mean_squared_error\n",
    "from sklearn.linear_model import Lasso, Ridge, ElasticNet\n",
    "from config import mongo_conn"
   ]
  },
  {
   "cell_type": "markdown",
   "id": "small-cargo",
   "metadata": {},
   "source": [
    "## Load Perfume Data"
   ]
  },
  {
   "cell_type": "code",
   "execution_count": 2,
   "id": "alternate-dominican",
   "metadata": {
    "scrolled": true
   },
   "outputs": [
    {
     "data": {
      "text/html": [
       "<div>\n",
       "<style scoped>\n",
       "    .dataframe tbody tr th:only-of-type {\n",
       "        vertical-align: middle;\n",
       "    }\n",
       "\n",
       "    .dataframe tbody tr th {\n",
       "        vertical-align: top;\n",
       "    }\n",
       "\n",
       "    .dataframe thead th {\n",
       "        text-align: right;\n",
       "    }\n",
       "</style>\n",
       "<table border=\"1\" class=\"dataframe\">\n",
       "  <thead>\n",
       "    <tr style=\"text-align: right;\">\n",
       "      <th></th>\n",
       "      <th>_id</th>\n",
       "      <th>name</th>\n",
       "      <th>company</th>\n",
       "      <th>image</th>\n",
       "      <th>for_gender</th>\n",
       "      <th>rating</th>\n",
       "      <th>main accords</th>\n",
       "      <th>description</th>\n",
       "      <th>top notes</th>\n",
       "      <th>middle notes</th>\n",
       "      <th>base notes</th>\n",
       "      <th>longevity</th>\n",
       "      <th>sillage</th>\n",
       "      <th>gender_vote</th>\n",
       "      <th>price value</th>\n",
       "    </tr>\n",
       "  </thead>\n",
       "  <tbody>\n",
       "    <tr>\n",
       "      <th>0</th>\n",
       "      <td>603a88def6b1c8369675d848</td>\n",
       "      <td>Les Exclusifs de Chanel Bel Respiro</td>\n",
       "      <td>Chanel</td>\n",
       "      <td>https://fimgs.net/mdimg/perfume/375x500.5298.jpg</td>\n",
       "      <td>for women</td>\n",
       "      <td>4.00</td>\n",
       "      <td>{'citrus': 100, 'white floral': 81.3333, 'wood...</td>\n",
       "      <td>Eau perlee by Jardin de France is a Floral Fru...</td>\n",
       "      <td>[Mandarin Orange, Petitgrain, Violet, Amalfi L...</td>\n",
       "      <td>[Jasmine, Woodsy Notes, African Orange flower,...</td>\n",
       "      <td>[Musk, Patchouli]</td>\n",
       "      <td>{'very weak': 0, 'weak': 0, 'moderate': 0, 'lo...</td>\n",
       "      <td>{'intimate': 0, 'moderate': 0, 'strong': 0, 'e...</td>\n",
       "      <td>{'female': 0, 'more female': 0, 'unisex': 0, '...</td>\n",
       "      <td>{'way overpriced': 0, 'overpriced': 0, 'ok': 0...</td>\n",
       "    </tr>\n",
       "    <tr>\n",
       "      <th>1</th>\n",
       "      <td>603a88def6b1c8369675d849</td>\n",
       "      <td>Les Exclusifs de Chanel Bel Respiro</td>\n",
       "      <td>Chanel</td>\n",
       "      <td>https://fimgs.net/mdimg/perfume/375x500.7913.jpg</td>\n",
       "      <td>for men</td>\n",
       "      <td>4.22</td>\n",
       "      <td>{'leather': 100, 'woody': 81.6293, 'animalic':...</td>\n",
       "      <td>Knize Ten by Knize is a Leather fragrance for ...</td>\n",
       "      <td>[Geranium, Rosemary, Bergamot, Orange, Petitgr...</td>\n",
       "      <td>[Carnation, Patchouli, Sandalwood, Orris, tinc...</td>\n",
       "      <td>[Leather, Castoreum, oak moss, Amber, Musk, Va...</td>\n",
       "      <td>{'very weak': 19, 'weak': 16, 'moderate': 53, ...</td>\n",
       "      <td>{'intimate': 37, 'moderate': 138, 'strong': 15...</td>\n",
       "      <td>{'female': 0, 'more female': 0, 'unisex': 6, '...</td>\n",
       "      <td>{'way overpriced': 0, 'overpriced': 2, 'ok': 1...</td>\n",
       "    </tr>\n",
       "    <tr>\n",
       "      <th>2</th>\n",
       "      <td>603a88def6b1c8369675d84a</td>\n",
       "      <td>Les Exclusifs de Chanel Bel Respiro</td>\n",
       "      <td>Chanel</td>\n",
       "      <td>https://fimgs.net/mdimg/perfume/375x500.5521.jpg</td>\n",
       "      <td>for men</td>\n",
       "      <td>4.44</td>\n",
       "      <td>{'aromatic': 100, 'warm spicy': 86.2226, 'lave...</td>\n",
       "      <td>La Nuit de l'Homme by Yves Saint Laurent is a ...</td>\n",
       "      <td>[Cardamom]</td>\n",
       "      <td>[Lavender, Virginia Cedar, Bergamot]</td>\n",
       "      <td>[Vetiver, Caraway]</td>\n",
       "      <td>{'very weak': 355, 'weak': 516, 'moderate': 20...</td>\n",
       "      <td>{'intimate': 952, 'moderate': 3000, 'strong': ...</td>\n",
       "      <td>{'female': 7, 'more female': 4, 'unisex': 63, ...</td>\n",
       "      <td>{'way overpriced': 45, 'overpriced': 112, 'ok'...</td>\n",
       "    </tr>\n",
       "    <tr>\n",
       "      <th>3</th>\n",
       "      <td>603a88def6b1c8369675d84b</td>\n",
       "      <td>Les Exclusifs de Chanel Bel Respiro</td>\n",
       "      <td>Chanel</td>\n",
       "      <td>https://fimgs.net/mdimg/perfume/375x500.25324.jpg</td>\n",
       "      <td>for women</td>\n",
       "      <td>3.93</td>\n",
       "      <td>{'vanilla': 100, 'coffee': 88.2484, 'sweet': 7...</td>\n",
       "      <td>Black Opium by Yves Saint Laurent is a Orienta...</td>\n",
       "      <td>[Pear, Pink Pepper, Orange Blossom]</td>\n",
       "      <td>[Coffee, Jasmine, Bitter Almond, Licorice]</td>\n",
       "      <td>[Vanilla, Patchouli, Cedar, Cashmere Wood]</td>\n",
       "      <td>{'very weak': 270, 'weak': 371, 'moderate': 14...</td>\n",
       "      <td>{'intimate': 594, 'moderate': 1973, 'strong': ...</td>\n",
       "      <td>{'female': 554, 'more female': 100, 'unisex': ...</td>\n",
       "      <td>{'way overpriced': 49, 'overpriced': 199, 'ok'...</td>\n",
       "    </tr>\n",
       "    <tr>\n",
       "      <th>4</th>\n",
       "      <td>603a88def6b1c8369675d84c</td>\n",
       "      <td>Les Exclusifs de Chanel Bel Respiro</td>\n",
       "      <td>Chanel</td>\n",
       "      <td>https://fimgs.net/mdimg/perfume/375x500.31861.jpg</td>\n",
       "      <td>for men</td>\n",
       "      <td>3.89</td>\n",
       "      <td>{'fresh spicy': 100, 'amber': 75.7735, 'citrus...</td>\n",
       "      <td>Sauvage  by Christian Dior is a Aromatic Fouge...</td>\n",
       "      <td>[Calabrian bergamot, Pepper]</td>\n",
       "      <td>[Sichuan Pepper, Lavender, Pink Pepper, Vetive...</td>\n",
       "      <td>[Ambroxan, Cedar, Labdanum]</td>\n",
       "      <td>{'very weak': 232, 'weak': 213, 'moderate': 95...</td>\n",
       "      <td>{'intimate': 466, 'moderate': 2075, 'strong': ...</td>\n",
       "      <td>{'female': 7, 'more female': 1, 'unisex': 26, ...</td>\n",
       "      <td>{'way overpriced': 75, 'overpriced': 210, 'ok'...</td>\n",
       "    </tr>\n",
       "  </tbody>\n",
       "</table>\n",
       "</div>"
      ],
      "text/plain": [
       "                        _id                                 name company  \\\n",
       "0  603a88def6b1c8369675d848  Les Exclusifs de Chanel Bel Respiro  Chanel   \n",
       "1  603a88def6b1c8369675d849  Les Exclusifs de Chanel Bel Respiro  Chanel   \n",
       "2  603a88def6b1c8369675d84a  Les Exclusifs de Chanel Bel Respiro  Chanel   \n",
       "3  603a88def6b1c8369675d84b  Les Exclusifs de Chanel Bel Respiro  Chanel   \n",
       "4  603a88def6b1c8369675d84c  Les Exclusifs de Chanel Bel Respiro  Chanel   \n",
       "\n",
       "                                               image for_gender  rating  \\\n",
       "0   https://fimgs.net/mdimg/perfume/375x500.5298.jpg  for women    4.00   \n",
       "1   https://fimgs.net/mdimg/perfume/375x500.7913.jpg    for men    4.22   \n",
       "2   https://fimgs.net/mdimg/perfume/375x500.5521.jpg    for men    4.44   \n",
       "3  https://fimgs.net/mdimg/perfume/375x500.25324.jpg  for women    3.93   \n",
       "4  https://fimgs.net/mdimg/perfume/375x500.31861.jpg    for men    3.89   \n",
       "\n",
       "                                        main accords  \\\n",
       "0  {'citrus': 100, 'white floral': 81.3333, 'wood...   \n",
       "1  {'leather': 100, 'woody': 81.6293, 'animalic':...   \n",
       "2  {'aromatic': 100, 'warm spicy': 86.2226, 'lave...   \n",
       "3  {'vanilla': 100, 'coffee': 88.2484, 'sweet': 7...   \n",
       "4  {'fresh spicy': 100, 'amber': 75.7735, 'citrus...   \n",
       "\n",
       "                                         description  \\\n",
       "0  Eau perlee by Jardin de France is a Floral Fru...   \n",
       "1  Knize Ten by Knize is a Leather fragrance for ...   \n",
       "2  La Nuit de l'Homme by Yves Saint Laurent is a ...   \n",
       "3  Black Opium by Yves Saint Laurent is a Orienta...   \n",
       "4  Sauvage  by Christian Dior is a Aromatic Fouge...   \n",
       "\n",
       "                                           top notes  \\\n",
       "0  [Mandarin Orange, Petitgrain, Violet, Amalfi L...   \n",
       "1  [Geranium, Rosemary, Bergamot, Orange, Petitgr...   \n",
       "2                                         [Cardamom]   \n",
       "3                [Pear, Pink Pepper, Orange Blossom]   \n",
       "4                       [Calabrian bergamot, Pepper]   \n",
       "\n",
       "                                        middle notes  \\\n",
       "0  [Jasmine, Woodsy Notes, African Orange flower,...   \n",
       "1  [Carnation, Patchouli, Sandalwood, Orris, tinc...   \n",
       "2               [Lavender, Virginia Cedar, Bergamot]   \n",
       "3         [Coffee, Jasmine, Bitter Almond, Licorice]   \n",
       "4  [Sichuan Pepper, Lavender, Pink Pepper, Vetive...   \n",
       "\n",
       "                                          base notes  \\\n",
       "0                                  [Musk, Patchouli]   \n",
       "1  [Leather, Castoreum, oak moss, Amber, Musk, Va...   \n",
       "2                                 [Vetiver, Caraway]   \n",
       "3         [Vanilla, Patchouli, Cedar, Cashmere Wood]   \n",
       "4                        [Ambroxan, Cedar, Labdanum]   \n",
       "\n",
       "                                           longevity  \\\n",
       "0  {'very weak': 0, 'weak': 0, 'moderate': 0, 'lo...   \n",
       "1  {'very weak': 19, 'weak': 16, 'moderate': 53, ...   \n",
       "2  {'very weak': 355, 'weak': 516, 'moderate': 20...   \n",
       "3  {'very weak': 270, 'weak': 371, 'moderate': 14...   \n",
       "4  {'very weak': 232, 'weak': 213, 'moderate': 95...   \n",
       "\n",
       "                                             sillage  \\\n",
       "0  {'intimate': 0, 'moderate': 0, 'strong': 0, 'e...   \n",
       "1  {'intimate': 37, 'moderate': 138, 'strong': 15...   \n",
       "2  {'intimate': 952, 'moderate': 3000, 'strong': ...   \n",
       "3  {'intimate': 594, 'moderate': 1973, 'strong': ...   \n",
       "4  {'intimate': 466, 'moderate': 2075, 'strong': ...   \n",
       "\n",
       "                                         gender_vote  \\\n",
       "0  {'female': 0, 'more female': 0, 'unisex': 0, '...   \n",
       "1  {'female': 0, 'more female': 0, 'unisex': 6, '...   \n",
       "2  {'female': 7, 'more female': 4, 'unisex': 63, ...   \n",
       "3  {'female': 554, 'more female': 100, 'unisex': ...   \n",
       "4  {'female': 7, 'more female': 1, 'unisex': 26, ...   \n",
       "\n",
       "                                         price value  \n",
       "0  {'way overpriced': 0, 'overpriced': 0, 'ok': 0...  \n",
       "1  {'way overpriced': 0, 'overpriced': 2, 'ok': 1...  \n",
       "2  {'way overpriced': 45, 'overpriced': 112, 'ok'...  \n",
       "3  {'way overpriced': 49, 'overpriced': 199, 'ok'...  \n",
       "4  {'way overpriced': 75, 'overpriced': 210, 'ok'...  "
      ]
     },
     "execution_count": 2,
     "metadata": {},
     "output_type": "execute_result"
    }
   ],
   "source": [
    "# Initialize PyMongo to work with MongoDBs\n",
    "client = pymongo.MongoClient(mongo_conn)\n",
    "db = client.perfume_db\n",
    "perfume_df = pd.DataFrame(list(db.perfume_data2.find()))\n",
    "perfume_df.head()"
   ]
  },
  {
   "cell_type": "markdown",
   "id": "square-wrist",
   "metadata": {},
   "source": [
    "## Preprocess Data"
   ]
  },
  {
   "cell_type": "markdown",
   "id": "criminal-malpractice",
   "metadata": {},
   "source": [
    "### Weighted Rating"
   ]
  },
  {
   "cell_type": "code",
   "execution_count": 4,
   "id": "continent-graham",
   "metadata": {},
   "outputs": [],
   "source": [
    "# Find the weighted rating taking into consideration both mean rating and number of reviews\n",
    "# Weighted Rating (WR) = (v ÷ (v+m)) × R + (m ÷ (v+m)) × C  where\n",
    "# v is the number of votes \n",
    "# m is the minimum number of votes required (the prerequisite) \n",
    "# R is the mean rating\n",
    "# C is the mean rating of all the perfumes in the dataset\n",
    "\n",
    "C = perfume_df[\"rating\"].mean()\n",
    "\n",
    "# value of m is the number of votes garnered by the 80th percentile perfume\n",
    "# m = perfume_df['votes'].quantile(0.80)\n",
    "m = 56\n",
    "\n",
    "# Function to compute the weighted rating for each perfume\n",
    "def weighted_rating(x, m=m, C=C):\n",
    "#     v = x['votes']\n",
    "    v = x['rating']\n",
    "    R = x['rating']\n",
    "    # Compute the weighted score\n",
    "    return (v/(v+m) * R) + (m/(m+v) * C)"
   ]
  },
  {
   "cell_type": "code",
   "execution_count": 5,
   "id": "raising-steal",
   "metadata": {},
   "outputs": [
    {
     "data": {
      "text/plain": [
       "0    4.079333\n",
       "1    4.094460\n",
       "2    4.111079\n",
       "3    4.074836\n",
       "4    4.072334\n",
       "Name: weighted_rating, dtype: float64"
      ]
     },
     "execution_count": 5,
     "metadata": {},
     "output_type": "execute_result"
    }
   ],
   "source": [
    "# Compute the weighted_rating using the weighted_rating function defined above\n",
    "perfume_df[\"weighted_rating\"] = perfume_df.apply(weighted_rating, axis=1)\n",
    "perfume_df[\"weighted_rating\"].head()\n"
   ]
  },
  {
   "cell_type": "code",
   "execution_count": 7,
   "id": "closing-location",
   "metadata": {},
   "outputs": [
    {
     "data": {
      "text/html": [
       "<div>\n",
       "<style scoped>\n",
       "    .dataframe tbody tr th:only-of-type {\n",
       "        vertical-align: middle;\n",
       "    }\n",
       "\n",
       "    .dataframe tbody tr th {\n",
       "        vertical-align: top;\n",
       "    }\n",
       "\n",
       "    .dataframe thead th {\n",
       "        text-align: right;\n",
       "    }\n",
       "</style>\n",
       "<table border=\"1\" class=\"dataframe\">\n",
       "  <thead>\n",
       "    <tr style=\"text-align: right;\">\n",
       "      <th></th>\n",
       "      <th>name</th>\n",
       "      <th>rating</th>\n",
       "      <th>weighted_rating</th>\n",
       "    </tr>\n",
       "  </thead>\n",
       "  <tbody>\n",
       "    <tr>\n",
       "      <th>8</th>\n",
       "      <td>Les Exclusifs de Chanel Bel Respiro</td>\n",
       "      <td>4.47</td>\n",
       "      <td>4.113460</td>\n",
       "    </tr>\n",
       "    <tr>\n",
       "      <th>2</th>\n",
       "      <td>Les Exclusifs de Chanel Bel Respiro</td>\n",
       "      <td>4.44</td>\n",
       "      <td>4.111079</td>\n",
       "    </tr>\n",
       "    <tr>\n",
       "      <th>1</th>\n",
       "      <td>Les Exclusifs de Chanel Bel Respiro</td>\n",
       "      <td>4.22</td>\n",
       "      <td>4.094460</td>\n",
       "    </tr>\n",
       "    <tr>\n",
       "      <th>9</th>\n",
       "      <td>Les Exclusifs de Chanel Bel Respiro</td>\n",
       "      <td>4.13</td>\n",
       "      <td>4.088091</td>\n",
       "    </tr>\n",
       "    <tr>\n",
       "      <th>5</th>\n",
       "      <td>Les Exclusifs de Chanel Bel Respiro</td>\n",
       "      <td>4.02</td>\n",
       "      <td>4.080646</td>\n",
       "    </tr>\n",
       "    <tr>\n",
       "      <th>0</th>\n",
       "      <td>Les Exclusifs de Chanel Bel Respiro</td>\n",
       "      <td>4.00</td>\n",
       "      <td>4.079333</td>\n",
       "    </tr>\n",
       "    <tr>\n",
       "      <th>7</th>\n",
       "      <td>Les Exclusifs de Chanel Bel Respiro</td>\n",
       "      <td>3.98</td>\n",
       "      <td>4.078033</td>\n",
       "    </tr>\n",
       "    <tr>\n",
       "      <th>3</th>\n",
       "      <td>Les Exclusifs de Chanel Bel Respiro</td>\n",
       "      <td>3.93</td>\n",
       "      <td>4.074836</td>\n",
       "    </tr>\n",
       "    <tr>\n",
       "      <th>4</th>\n",
       "      <td>Les Exclusifs de Chanel Bel Respiro</td>\n",
       "      <td>3.89</td>\n",
       "      <td>4.072334</td>\n",
       "    </tr>\n",
       "    <tr>\n",
       "      <th>6</th>\n",
       "      <td>Les Exclusifs de Chanel Bel Respiro</td>\n",
       "      <td>3.77</td>\n",
       "      <td>4.065131</td>\n",
       "    </tr>\n",
       "  </tbody>\n",
       "</table>\n",
       "</div>"
      ],
      "text/plain": [
       "                                  name  rating  weighted_rating\n",
       "8  Les Exclusifs de Chanel Bel Respiro    4.47         4.113460\n",
       "2  Les Exclusifs de Chanel Bel Respiro    4.44         4.111079\n",
       "1  Les Exclusifs de Chanel Bel Respiro    4.22         4.094460\n",
       "9  Les Exclusifs de Chanel Bel Respiro    4.13         4.088091\n",
       "5  Les Exclusifs de Chanel Bel Respiro    4.02         4.080646\n",
       "0  Les Exclusifs de Chanel Bel Respiro    4.00         4.079333\n",
       "7  Les Exclusifs de Chanel Bel Respiro    3.98         4.078033\n",
       "3  Les Exclusifs de Chanel Bel Respiro    3.93         4.074836\n",
       "4  Les Exclusifs de Chanel Bel Respiro    3.89         4.072334\n",
       "6  Les Exclusifs de Chanel Bel Respiro    3.77         4.065131"
      ]
     },
     "execution_count": 7,
     "metadata": {},
     "output_type": "execute_result"
    }
   ],
   "source": [
    "# perfume_df[[\"name\", \"rating\", \"votes\", \"weighted_rating\"]].sort_values(by=['weighted_rating'], ascending=False)\n",
    "perfume_df[[\"name\", \"rating\", \"weighted_rating\"]].sort_values(by=['weighted_rating'], ascending=False)"
   ]
  },
  {
   "cell_type": "markdown",
   "id": "mounted-attention",
   "metadata": {},
   "source": [
    "### MultiLabelBinarizer"
   ]
  },
  {
   "cell_type": "code",
   "execution_count": 8,
   "id": "commercial-tomorrow",
   "metadata": {},
   "outputs": [
    {
     "name": "stdout",
     "output_type": "stream",
     "text": [
      "['top_note_Amalfi Lemon', 'top_note_Apple', 'top_note_Bergamot', 'top_note_Black Currant', 'top_note_Calabrian bergamot', 'top_note_Cardamom', 'top_note_Geranium', 'top_note_Grapefruit', 'top_note_Green Apple', 'top_note_Lavender', 'top_note_Lemon', 'top_note_Mandarin Orange', 'top_note_Mint', 'top_note_Orange', 'top_note_Orange Blossom', 'top_note_Pear', 'top_note_Pepper', 'top_note_Petitgrain', 'top_note_Pink Pepper', 'top_note_Rosemary', 'top_note_Violet']\n",
      "['Amalfi Lemon' 'Apple' 'Bergamot' 'Black Currant' 'Calabrian bergamot'\n",
      " 'Cardamom' 'Geranium' 'Grapefruit' 'Green Apple' 'Lavender' 'Lemon'\n",
      " 'Mandarin Orange' 'Mint' 'Orange' 'Orange Blossom' 'Pear' 'Pepper'\n",
      " 'Petitgrain' 'Pink Pepper' 'Rosemary' 'Violet']\n"
     ]
    },
    {
     "data": {
      "text/plain": [
       "Index(['_id', 'name', 'company', 'image', 'for_gender', 'rating',\n",
       "       'main accords', 'description', 'top notes', 'middle notes',\n",
       "       'base notes', 'longevity', 'sillage', 'gender_vote', 'price value',\n",
       "       'weighted_rating', 'top_note_Amalfi Lemon', 'top_note_Apple',\n",
       "       'top_note_Bergamot', 'top_note_Black Currant',\n",
       "       'top_note_Calabrian bergamot', 'top_note_Cardamom', 'top_note_Geranium',\n",
       "       'top_note_Grapefruit', 'top_note_Green Apple', 'top_note_Lavender',\n",
       "       'top_note_Lemon', 'top_note_Mandarin Orange', 'top_note_Mint',\n",
       "       'top_note_Orange', 'top_note_Orange Blossom', 'top_note_Pear',\n",
       "       'top_note_Pepper', 'top_note_Petitgrain', 'top_note_Pink Pepper',\n",
       "       'top_note_Rosemary', 'top_note_Violet',\n",
       "       'middle_note_African Orange flower', 'middle_note_Ambroxan',\n",
       "       'middle_note_Bergamot', 'middle_note_Bitter Almond',\n",
       "       'middle_note_Caramel', 'middle_note_Carnation', 'middle_note_Cinnamon',\n",
       "       'middle_note_Coffee', 'middle_note_Geranium', 'middle_note_Ginger',\n",
       "       'middle_note_Iso E Super', 'middle_note_Jasmine',\n",
       "       'middle_note_Jasmine Sambac', 'middle_note_Lavender',\n",
       "       'middle_note_Licorice', 'middle_note_Nutmeg',\n",
       "       'middle_note_Orange Blossom', 'middle_note_Orris',\n",
       "       'middle_note_Patchouli', 'middle_note_Pink Pepper', 'middle_note_Rose',\n",
       "       'middle_note_Sandalwood', 'middle_note_Sichuan Pepper',\n",
       "       'middle_note_Tonka Bean', 'middle_note_Vetiver', 'middle_note_Violet',\n",
       "       'middle_note_Virginia Cedar', 'middle_note_Woodsy Notes',\n",
       "       'middle_note_elemi', 'middle_note_iris', 'middle_note_tincture of rose',\n",
       "       'base_note_Amber', 'base_note_Ambergris', 'base_note_Ambroxan',\n",
       "       'base_note_Atlas Cedar', 'base_note_Australian Sandalwood',\n",
       "       'base_note_Benzoin', 'base_note_Caraway', 'base_note_Cardamom',\n",
       "       'base_note_Cashmere Wood', 'base_note_Castoreum', 'base_note_Cedar',\n",
       "       'base_note_Coumarin', 'base_note_Guaiac Wood', 'base_note_Incense',\n",
       "       'base_note_Labdanum', 'base_note_Leather', 'base_note_Licorice',\n",
       "       'base_note_Madagascar Vanilla', 'base_note_Musk', 'base_note_Oakmoss',\n",
       "       'base_note_Patchouli', 'base_note_Pepper', 'base_note_Sandalwood',\n",
       "       'base_note_Tahitian Vanilla', 'base_note_Vanilla', 'base_note_Vetiver',\n",
       "       'base_note_Virginian Cedar', 'base_note_White Musk',\n",
       "       'base_note_oak moss'],\n",
       "      dtype='object')"
      ]
     },
     "execution_count": 8,
     "metadata": {},
     "output_type": "execute_result"
    }
   ],
   "source": [
    "# convert Notes list to multiple features columns\n",
    "mlb = MultiLabelBinarizer()\n",
    "\n",
    "# Top Notes\n",
    "X_top_notes = mlb.fit_transform(perfume_df[\"top notes\"])\n",
    "column_names = [\"top_note_\" + note for note in mlb.classes_]\n",
    "perfume_df = perfume_df.join(pd.DataFrame(X_top_notes, columns=column_names))\n",
    "\n",
    "# Middle Notes\n",
    "X_middle_notes = mlb.fit_transform(perfume_df[\"middle notes\"])\n",
    "column_names = [\"middle_note_\" + note for note in mlb.classes_]\n",
    "perfume_df = perfume_df.join(pd.DataFrame(X_middle_notes, columns=column_names))\n",
    "\n",
    "# Base notes\n",
    "X_base_notes = mlb.fit_transform(perfume_df[\"base notes\"])\n",
    "column_names = [\"base_note_\" + note for note in mlb.classes_]\n",
    "perfume_df = perfume_df.join(pd.DataFrame(X_base_notes, columns=column_names))\n",
    "\n",
    "perfume_df.columns"
   ]
  },
  {
   "cell_type": "code",
   "execution_count": null,
   "id": "veterinary-crisis",
   "metadata": {},
   "outputs": [],
   "source": [
    "type(X_top_notes)"
   ]
  },
  {
   "cell_type": "markdown",
   "id": "stable-dragon",
   "metadata": {},
   "source": [
    "### DictVectorizer"
   ]
  },
  {
   "cell_type": "code",
   "execution_count": null,
   "id": "danish-roulette",
   "metadata": {},
   "outputs": [],
   "source": [
    "# convert Accords dict to multiple features columns\n",
    "dv = DictVectorizer(sparse=False)\n",
    "X_accords = dv.fit_transform([perfume_df.main_accords])\n",
    "X_accords\n",
    "# dv.get_feature_names()\n",
    "# perfume_df = perfume_df.join(pd.DataFrame(X_accords, columns=dv.fearue))\n",
    "# perfume_df.columns\n"
   ]
  },
  {
   "cell_type": "markdown",
   "id": "british-hudson",
   "metadata": {},
   "source": [
    "### X (data) and y (target)"
   ]
  },
  {
   "cell_type": "code",
   "execution_count": null,
   "id": "adolescent-leather",
   "metadata": {},
   "outputs": [],
   "source": [
    "# drop unnecessary columns\n",
    "original_X = perfume_df.drop([\"_id\", \"brand\", \"title\", \"date\", \"accords\", \"rating_score\", \"votes\", \"gender\", \"notes_3\", \"notes_4\", \"notes_5\", \"notes_6\", \"notes_7\", \"notes_8\", \"notes_9\", \"notes_10\", \"notes_11\", \"notes_12\", \"notes_13\", \"notes_14\", \"notes_15\", \"notes_16\", \"notes_17\", \"notes_18\", \"notes_19\", \"notes_10\"], axis=1)\n",
    "y = perfume_df[\"rating_score\"].values.reshape(-1, 1)\n",
    "print(X.shape, y.shape)"
   ]
  },
  {
   "cell_type": "markdown",
   "id": "proud-paragraph",
   "metadata": {},
   "source": [
    "### Dummy Encoding (Binary Encoded Data)"
   ]
  },
  {
   "cell_type": "code",
   "execution_count": null,
   "id": "private-discretion",
   "metadata": {},
   "outputs": [],
   "source": [
    "data = original_X.copy()\n",
    "X = pd.get_dummies(data)\n",
    "X.head()"
   ]
  },
  {
   "cell_type": "markdown",
   "id": "provincial-throat",
   "metadata": {},
   "source": [
    "## Train and Test data"
   ]
  },
  {
   "cell_type": "code",
   "execution_count": null,
   "id": "otherwise-bargain",
   "metadata": {},
   "outputs": [],
   "source": [
    "# Split the data into training and testing\n",
    "# X_train, X_test, y_train, y_test = train_test_split(X, y, random_state=42)\n",
    "X_train_scaled, X_test_scaled, y_train_scaled, y_test_scaled = train_test_split(X, y, random_state=42)"
   ]
  },
  {
   "cell_type": "code",
   "execution_count": null,
   "id": "academic-arena",
   "metadata": {},
   "outputs": [],
   "source": [
    "# Create a StandardScater model and fit it to the training data\n",
    "\n",
    "# X_scaler = StandardScaler().fit(X_train)\n",
    "# y_scaler = StandardScaler().fit(y_train)"
   ]
  },
  {
   "cell_type": "code",
   "execution_count": null,
   "id": "cross-cyprus",
   "metadata": {},
   "outputs": [],
   "source": [
    "# Transform the training and testing data using the X_scaler and y_scaler models\n",
    "\n",
    "# X_train_scaled = X_scaler.transform(X_train)\n",
    "# X_test_scaled = X_scaler.transform(X_test)\n",
    "# y_train_scaled = y_scaler.transform(y_train)\n",
    "# y_test_scaled = y_scaler.transform(y_test)"
   ]
  },
  {
   "cell_type": "markdown",
   "id": "enhanced-resistance",
   "metadata": {},
   "source": [
    "## Linear Regression Model"
   ]
  },
  {
   "cell_type": "code",
   "execution_count": null,
   "id": "premium-orange",
   "metadata": {},
   "outputs": [],
   "source": [
    "# Create a LinearRegression model and fit it to the scaled training data\n",
    "\n",
    "model = LinearRegression()\n",
    "model.fit(X_train_scaled, y_train_scaled)\n"
   ]
  },
  {
   "cell_type": "markdown",
   "id": "divine-uganda",
   "metadata": {},
   "source": [
    "### Mean Squared Error and R2"
   ]
  },
  {
   "cell_type": "code",
   "execution_count": null,
   "id": "analyzed-technique",
   "metadata": {},
   "outputs": [],
   "source": [
    "# Used X_test_scaled, y_test_scaled, and model.predict(X_test_scaled) to calculate MSE and R2\n",
    "predictions = model.predict(X_test_scaled)\n",
    "MSE = mean_squared_error(y_test_scaled, predictions)\n",
    "r2 = model.score(X_test_scaled, y_test_scaled)\n",
    "\n",
    "print(f\"MSE: {MSE}, R2: {r2}\")"
   ]
  },
  {
   "cell_type": "markdown",
   "id": "thermal-witch",
   "metadata": {},
   "source": [
    "### Lasso Model"
   ]
  },
  {
   "cell_type": "code",
   "execution_count": null,
   "id": "disciplinary-usage",
   "metadata": {},
   "outputs": [],
   "source": [
    "lasso = Lasso(alpha=.01).fit(X_train_scaled, y_train_scaled)\n",
    "\n",
    "predictions = lasso.predict(X_test_scaled)\n",
    "\n",
    "MSE = mean_squared_error(y_test_scaled, predictions)\n",
    "r2 = lasso.score(X_test_scaled, y_test_scaled)\n",
    "\n",
    "print(f\"MSE: {MSE}, R2: {r2}\")"
   ]
  },
  {
   "cell_type": "markdown",
   "id": "featured-novel",
   "metadata": {},
   "source": [
    "### Ridge Model"
   ]
  },
  {
   "cell_type": "code",
   "execution_count": null,
   "id": "suffering-correlation",
   "metadata": {},
   "outputs": [],
   "source": [
    "ridge = Ridge(alpha=.01).fit(X_train_scaled, y_train_scaled)\n",
    "\n",
    "predictions = ridge.predict(X_test_scaled)\n",
    "\n",
    "MSE = mean_squared_error(y_test_scaled, predictions)\n",
    "r2 = ridge.score(X_test_scaled, y_test_scaled)\n",
    "\n",
    "print(f\"MSE: {MSE}, R2: {r2}\")"
   ]
  },
  {
   "cell_type": "markdown",
   "id": "knowing-surprise",
   "metadata": {},
   "source": [
    "### ElasticNet model"
   ]
  },
  {
   "cell_type": "code",
   "execution_count": null,
   "id": "exciting-sleep",
   "metadata": {},
   "outputs": [],
   "source": [
    "elasticnet = ElasticNet(alpha=.01).fit(X_train_scaled, y_train_scaled)\n",
    "\n",
    "predictions = elasticnet.predict(X_test_scaled)\n",
    "\n",
    "MSE = mean_squared_error(y_test_scaled, predictions)\n",
    "r2 = elasticnet.score(X_test_scaled, y_test_scaled)\n",
    "\n",
    "print(f\"MSE: {MSE}, R2: {r2}\")"
   ]
  },
  {
   "cell_type": "markdown",
   "id": "heard-sensitivity",
   "metadata": {},
   "source": [
    "### Save the Model"
   ]
  },
  {
   "cell_type": "code",
   "execution_count": null,
   "id": "superb-mortgage",
   "metadata": {},
   "outputs": [],
   "source": []
  }
 ],
 "metadata": {
  "kernelspec": {
   "display_name": "Python 3",
   "language": "python",
   "name": "python3"
  },
  "language_info": {
   "codemirror_mode": {
    "name": "ipython",
    "version": 3
   },
   "file_extension": ".py",
   "mimetype": "text/x-python",
   "name": "python",
   "nbconvert_exporter": "python",
   "pygments_lexer": "ipython3",
   "version": "3.6.12"
  }
 },
 "nbformat": 4,
 "nbformat_minor": 5
}
