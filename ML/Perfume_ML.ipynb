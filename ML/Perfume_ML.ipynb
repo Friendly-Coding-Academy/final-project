{
 "cells": [
  {
   "cell_type": "code",
   "execution_count": null,
   "id": "exotic-portuguese",
   "metadata": {},
   "outputs": [],
   "source": [
    "# Update sklearn to prevent version mismatches\n",
    "!pip install sklearn --upgrade"
   ]
  },
  {
   "cell_type": "markdown",
   "id": "proprietary-relief",
   "metadata": {},
   "source": [
    "## Dependencies"
   ]
  },
  {
   "cell_type": "code",
   "execution_count": 1,
   "id": "operational-lesson",
   "metadata": {},
   "outputs": [],
   "source": [
    "%matplotlib inline\n",
    "import pandas as pd\n",
    "import matplotlib.pyplot as plt\n",
    "import numpy as np\n",
    "import seaborn as sns\n",
    "import pymongo\n",
    "from sklearn.preprocessing import LabelEncoder, StandardScaler, MultiLabelBinarizer\n",
    "from sklearn.feature_extraction import DictVectorizer\n",
    "from sklearn.model_selection import train_test_split\n",
    "from sklearn.linear_model import LinearRegression\n",
    "from sklearn.metrics import mean_squared_error\n",
    "from sklearn.linear_model import Lasso, Ridge, ElasticNet\n",
    "from config import mongo_conn"
   ]
  },
  {
   "cell_type": "markdown",
   "id": "small-cargo",
   "metadata": {},
   "source": [
    "## Load Perfume Data"
   ]
  },
  {
   "cell_type": "code",
   "execution_count": 2,
   "id": "alternate-dominican",
   "metadata": {
    "scrolled": true
   },
   "outputs": [
    {
     "data": {
      "text/html": [
       "<div>\n",
       "<style scoped>\n",
       "    .dataframe tbody tr th:only-of-type {\n",
       "        vertical-align: middle;\n",
       "    }\n",
       "\n",
       "    .dataframe tbody tr th {\n",
       "        vertical-align: top;\n",
       "    }\n",
       "\n",
       "    .dataframe thead th {\n",
       "        text-align: right;\n",
       "    }\n",
       "</style>\n",
       "<table border=\"1\" class=\"dataframe\">\n",
       "  <thead>\n",
       "    <tr style=\"text-align: right;\">\n",
       "      <th></th>\n",
       "      <th>_id</th>\n",
       "      <th>brand</th>\n",
       "      <th>title</th>\n",
       "      <th>date</th>\n",
       "      <th>accords</th>\n",
       "      <th>rating_score</th>\n",
       "      <th>votes</th>\n",
       "      <th>longevity_poor</th>\n",
       "      <th>longevity_weak</th>\n",
       "      <th>longevity_moderate</th>\n",
       "      <th>...</th>\n",
       "      <th>notes_12</th>\n",
       "      <th>notes_13</th>\n",
       "      <th>notes_14</th>\n",
       "      <th>notes_15</th>\n",
       "      <th>notes_16</th>\n",
       "      <th>notes_17</th>\n",
       "      <th>notes_18</th>\n",
       "      <th>notes_19</th>\n",
       "      <th>gender</th>\n",
       "      <th>notes_20</th>\n",
       "    </tr>\n",
       "  </thead>\n",
       "  <tbody>\n",
       "    <tr>\n",
       "      <th>0</th>\n",
       "      <td>603987b919085a1bd5bffcbe</td>\n",
       "      <td>The-Spirit-of-Dubai</td>\n",
       "      <td>Aamal The Spirit of Dubai for women and men</td>\n",
       "      <td>2017-01-01 00:00:00</td>\n",
       "      <td>woody,earthy,animalic,amber,musky,balsamic</td>\n",
       "      <td>5.0</td>\n",
       "      <td>3</td>\n",
       "      <td>0</td>\n",
       "      <td>0</td>\n",
       "      <td>0</td>\n",
       "      <td>...</td>\n",
       "      <td>Base3Moss</td>\n",
       "      <td>Base4Agarwood (Oud)</td>\n",
       "      <td>Base5Indian Oud</td>\n",
       "      <td></td>\n",
       "      <td></td>\n",
       "      <td></td>\n",
       "      <td></td>\n",
       "      <td></td>\n",
       "      <td>women</td>\n",
       "      <td>NaN</td>\n",
       "    </tr>\n",
       "    <tr>\n",
       "      <th>1</th>\n",
       "      <td>603987b919085a1bd5bffcbf</td>\n",
       "      <td>Ajmal</td>\n",
       "      <td>Aatifa Ajmal for women and men</td>\n",
       "      <td>2014-01-01 00:00:00</td>\n",
       "      <td>fresh spicy,woody,musky,rose,amber</td>\n",
       "      <td>4.2</td>\n",
       "      <td>10</td>\n",
       "      <td>1</td>\n",
       "      <td>0</td>\n",
       "      <td>0</td>\n",
       "      <td>...</td>\n",
       "      <td></td>\n",
       "      <td></td>\n",
       "      <td></td>\n",
       "      <td></td>\n",
       "      <td></td>\n",
       "      <td></td>\n",
       "      <td></td>\n",
       "      <td></td>\n",
       "      <td>women</td>\n",
       "      <td></td>\n",
       "    </tr>\n",
       "    <tr>\n",
       "      <th>2</th>\n",
       "      <td>603987b919085a1bd5bffcc0</td>\n",
       "      <td>Al-Jazeera-Perfumes</td>\n",
       "      <td>AA Al-Jazeera Perfumes for women and men</td>\n",
       "      <td>2000-01-01 05:00:00</td>\n",
       "      <td>rose,woody,musky,oud,fruity</td>\n",
       "      <td>0.0</td>\n",
       "      <td>0</td>\n",
       "      <td>0</td>\n",
       "      <td>0</td>\n",
       "      <td>0</td>\n",
       "      <td>...</td>\n",
       "      <td></td>\n",
       "      <td></td>\n",
       "      <td></td>\n",
       "      <td></td>\n",
       "      <td></td>\n",
       "      <td></td>\n",
       "      <td></td>\n",
       "      <td></td>\n",
       "      <td>women</td>\n",
       "      <td></td>\n",
       "    </tr>\n",
       "    <tr>\n",
       "      <th>3</th>\n",
       "      <td>603987b919085a1bd5bffcc1</td>\n",
       "      <td>Art-of-Scent-Swiss-Perfumes</td>\n",
       "      <td>aarewasser Art of Scent - Swiss Perfumes for w...</td>\n",
       "      <td>2010-01-01 00:00:00</td>\n",
       "      <td>white floral,green,ozonic,fresh,animalic</td>\n",
       "      <td>0.0</td>\n",
       "      <td>1</td>\n",
       "      <td>0</td>\n",
       "      <td>0</td>\n",
       "      <td>0</td>\n",
       "      <td>...</td>\n",
       "      <td></td>\n",
       "      <td></td>\n",
       "      <td></td>\n",
       "      <td></td>\n",
       "      <td></td>\n",
       "      <td></td>\n",
       "      <td></td>\n",
       "      <td></td>\n",
       "      <td>women</td>\n",
       "      <td></td>\n",
       "    </tr>\n",
       "    <tr>\n",
       "      <th>4</th>\n",
       "      <td>603987b919085a1bd5bffcc2</td>\n",
       "      <td>Hamidi-Oud-Perfumes</td>\n",
       "      <td>Aaliyah Hamidi Oud &amp; Perfumes for women and men</td>\n",
       "      <td>2000-01-01 05:00:00</td>\n",
       "      <td>woody,warm spicy,amber,balsamic,musky</td>\n",
       "      <td>0.0</td>\n",
       "      <td>2</td>\n",
       "      <td>0</td>\n",
       "      <td>0</td>\n",
       "      <td>0</td>\n",
       "      <td>...</td>\n",
       "      <td></td>\n",
       "      <td></td>\n",
       "      <td></td>\n",
       "      <td></td>\n",
       "      <td></td>\n",
       "      <td></td>\n",
       "      <td></td>\n",
       "      <td></td>\n",
       "      <td>women</td>\n",
       "      <td></td>\n",
       "    </tr>\n",
       "  </tbody>\n",
       "</table>\n",
       "<p>5 rows × 37 columns</p>\n",
       "</div>"
      ],
      "text/plain": [
       "                        _id                        brand  \\\n",
       "0  603987b919085a1bd5bffcbe          The-Spirit-of-Dubai   \n",
       "1  603987b919085a1bd5bffcbf                        Ajmal   \n",
       "2  603987b919085a1bd5bffcc0          Al-Jazeera-Perfumes   \n",
       "3  603987b919085a1bd5bffcc1  Art-of-Scent-Swiss-Perfumes   \n",
       "4  603987b919085a1bd5bffcc2          Hamidi-Oud-Perfumes   \n",
       "\n",
       "                                               title                 date  \\\n",
       "0        Aamal The Spirit of Dubai for women and men  2017-01-01 00:00:00   \n",
       "1                     Aatifa Ajmal for women and men  2014-01-01 00:00:00   \n",
       "2           AA Al-Jazeera Perfumes for women and men  2000-01-01 05:00:00   \n",
       "3  aarewasser Art of Scent - Swiss Perfumes for w...  2010-01-01 00:00:00   \n",
       "4    Aaliyah Hamidi Oud & Perfumes for women and men  2000-01-01 05:00:00   \n",
       "\n",
       "                                      accords  rating_score  votes  \\\n",
       "0  woody,earthy,animalic,amber,musky,balsamic           5.0      3   \n",
       "1          fresh spicy,woody,musky,rose,amber           4.2     10   \n",
       "2                 rose,woody,musky,oud,fruity           0.0      0   \n",
       "3    white floral,green,ozonic,fresh,animalic           0.0      1   \n",
       "4       woody,warm spicy,amber,balsamic,musky           0.0      2   \n",
       "\n",
       "   longevity_poor  longevity_weak  longevity_moderate  ...   notes_12  \\\n",
       "0               0               0                   0  ...  Base3Moss   \n",
       "1               1               0                   0  ...              \n",
       "2               0               0                   0  ...              \n",
       "3               0               0                   0  ...              \n",
       "4               0               0                   0  ...              \n",
       "\n",
       "              notes_13         notes_14  notes_15  notes_16  notes_17  \\\n",
       "0  Base4Agarwood (Oud)  Base5Indian Oud                                 \n",
       "1                                                                       \n",
       "2                                                                       \n",
       "3                                                                       \n",
       "4                                                                       \n",
       "\n",
       "  notes_18 notes_19 gender notes_20  \n",
       "0                    women      NaN  \n",
       "1                    women           \n",
       "2                    women           \n",
       "3                    women           \n",
       "4                    women           \n",
       "\n",
       "[5 rows x 37 columns]"
      ]
     },
     "execution_count": 2,
     "metadata": {},
     "output_type": "execute_result"
    }
   ],
   "source": [
    "# Initialize PyMongo to work with MongoDBs\n",
    "client = pymongo.MongoClient(mongo_conn)\n",
    "db = client.perfume_db\n",
    "perfume_df = pd.DataFrame(list(db.perfume_data.find()))\n",
    "perfume_df.head()"
   ]
  },
  {
   "cell_type": "markdown",
   "id": "square-wrist",
   "metadata": {},
   "source": [
    "## Preprocess Data"
   ]
  },
  {
   "cell_type": "markdown",
   "id": "criminal-malpractice",
   "metadata": {},
   "source": [
    "### Weighted Rating"
   ]
  },
  {
   "cell_type": "code",
   "execution_count": 4,
   "id": "continent-graham",
   "metadata": {},
   "outputs": [],
   "source": [
    "# Find the weighted rating taking into consideration both mean rating and number of reviews\n",
    "# Weighted Rating (WR) = (v ÷ (v+m)) × R + (m ÷ (v+m)) × C  where\n",
    "# v is the number of votes \n",
    "# m is the minimum number of votes required (the prerequisite) \n",
    "# R is the mean rating\n",
    "# C is the mean rating of all the perfumes in the dataset\n",
    "\n",
    "C = perfume_df[\"rating_score\"].mean()\n",
    "\n",
    "# value of m is the number of votes garnered by the 80th percentile perfume\n",
    "m = perfume_df['votes'].quantile(0.80)\n",
    "\n",
    "# Function to compute the weighted rating for each perfume\n",
    "def weighted_rating(x, m=m, C=C):\n",
    "    v = x['votes']\n",
    "    R = x['rating_score']\n",
    "    # Compute the weighted score\n",
    "    return (v/(v+m) * R) + (m/(m+v) * C)"
   ]
  },
  {
   "cell_type": "code",
   "execution_count": 5,
   "id": "saving-optimum",
   "metadata": {},
   "outputs": [
    {
     "data": {
      "text/plain": [
       "0    3.277110\n",
       "1    3.334296\n",
       "2    3.192377\n",
       "3    3.140887\n",
       "4    3.091032\n",
       "Name: weighted_rating, dtype: float64"
      ]
     },
     "execution_count": 5,
     "metadata": {},
     "output_type": "execute_result"
    }
   ],
   "source": [
    "# Compute the weighted_rating using the weighted_rating function defined above\n",
    "perfume_df[\"weighted_rating\"] = perfume_df.apply(weighted_rating, axis=1)\n",
    "perfume_df[\"weighted_rating\"].head()\n"
   ]
  },
  {
   "cell_type": "code",
   "execution_count": 12,
   "id": "hourly-obligation",
   "metadata": {},
   "outputs": [
    {
     "data": {
      "text/html": [
       "<div>\n",
       "<style scoped>\n",
       "    .dataframe tbody tr th:only-of-type {\n",
       "        vertical-align: middle;\n",
       "    }\n",
       "\n",
       "    .dataframe tbody tr th {\n",
       "        vertical-align: top;\n",
       "    }\n",
       "\n",
       "    .dataframe thead th {\n",
       "        text-align: right;\n",
       "    }\n",
       "</style>\n",
       "<table border=\"1\" class=\"dataframe\">\n",
       "  <thead>\n",
       "    <tr style=\"text-align: right;\">\n",
       "      <th></th>\n",
       "      <th>brand</th>\n",
       "      <th>rating_score</th>\n",
       "      <th>votes</th>\n",
       "      <th>weighted_rating</th>\n",
       "    </tr>\n",
       "  </thead>\n",
       "  <tbody>\n",
       "    <tr>\n",
       "      <th>30288</th>\n",
       "      <td>Christian-Dior</td>\n",
       "      <td>4.52</td>\n",
       "      <td>4940</td>\n",
       "      <td>4.503806</td>\n",
       "    </tr>\n",
       "    <tr>\n",
       "      <th>31194</th>\n",
       "      <td>Dolce-Gabbana</td>\n",
       "      <td>4.52</td>\n",
       "      <td>2637</td>\n",
       "      <td>4.489983</td>\n",
       "    </tr>\n",
       "    <tr>\n",
       "      <th>30956</th>\n",
       "      <td>Guerlain</td>\n",
       "      <td>4.52</td>\n",
       "      <td>1432</td>\n",
       "      <td>4.465757</td>\n",
       "    </tr>\n",
       "    <tr>\n",
       "      <th>8145</th>\n",
       "      <td>Chanel</td>\n",
       "      <td>4.54</td>\n",
       "      <td>930</td>\n",
       "      <td>4.457048</td>\n",
       "    </tr>\n",
       "    <tr>\n",
       "      <th>15929</th>\n",
       "      <td>Chanel</td>\n",
       "      <td>4.48</td>\n",
       "      <td>2277</td>\n",
       "      <td>4.446405</td>\n",
       "    </tr>\n",
       "    <tr>\n",
       "      <th>...</th>\n",
       "      <td>...</td>\n",
       "      <td>...</td>\n",
       "      <td>...</td>\n",
       "      <td>...</td>\n",
       "    </tr>\n",
       "    <tr>\n",
       "      <th>39153</th>\n",
       "      <td>Fragrance-One</td>\n",
       "      <td>2.37</td>\n",
       "      <td>464</td>\n",
       "      <td>2.465552</td>\n",
       "    </tr>\n",
       "    <tr>\n",
       "      <th>13001</th>\n",
       "      <td>Exceptional-Parfums</td>\n",
       "      <td>2.19</td>\n",
       "      <td>327</td>\n",
       "      <td>2.347590</td>\n",
       "    </tr>\n",
       "    <tr>\n",
       "      <th>25507</th>\n",
       "      <td>Clean</td>\n",
       "      <td>1.94</td>\n",
       "      <td>130</td>\n",
       "      <td>2.339974</td>\n",
       "    </tr>\n",
       "    <tr>\n",
       "      <th>27649</th>\n",
       "      <td>Trump</td>\n",
       "      <td>1.98</td>\n",
       "      <td>418</td>\n",
       "      <td>2.134395</td>\n",
       "    </tr>\n",
       "    <tr>\n",
       "      <th>34199</th>\n",
       "      <td>Etat-Libre-d-Orange</td>\n",
       "      <td>1.89</td>\n",
       "      <td>849</td>\n",
       "      <td>1.977302</td>\n",
       "    </tr>\n",
       "  </tbody>\n",
       "</table>\n",
       "<p>51212 rows × 4 columns</p>\n",
       "</div>"
      ],
      "text/plain": [
       "                     brand  rating_score  votes  weighted_rating\n",
       "30288       Christian-Dior          4.52   4940         4.503806\n",
       "31194        Dolce-Gabbana          4.52   2637         4.489983\n",
       "30956             Guerlain          4.52   1432         4.465757\n",
       "8145                Chanel          4.54    930         4.457048\n",
       "15929               Chanel          4.48   2277         4.446405\n",
       "...                    ...           ...    ...              ...\n",
       "39153        Fragrance-One          2.37    464         2.465552\n",
       "13001  Exceptional-Parfums          2.19    327         2.347590\n",
       "25507                Clean          1.94    130         2.339974\n",
       "27649                Trump          1.98    418         2.134395\n",
       "34199  Etat-Libre-d-Orange          1.89    849         1.977302\n",
       "\n",
       "[51212 rows x 4 columns]"
      ]
     },
     "execution_count": 12,
     "metadata": {},
     "output_type": "execute_result"
    }
   ],
   "source": [
    "perfume_df[[\"brand\", \"rating_score\", \"votes\", \"weighted_rating\"]].sort_values(by=['weighted_rating'], ascending=False)"
   ]
  },
  {
   "cell_type": "markdown",
   "id": "mounted-attention",
   "metadata": {},
   "source": [
    "### MultiLabelBinarizer"
   ]
  },
  {
   "cell_type": "code",
   "execution_count": null,
   "id": "commercial-tomorrow",
   "metadata": {},
   "outputs": [],
   "source": [
    "# convert Notes list to multiple features columns\n",
    "mlb = MultiLabelBinarizer()\n",
    "X_notes = mlb.fit_transform(perfume_df.notes)\n",
    "perfume_df = perfume_df.join(pd.DataFrame(X_notes, columns=mlb.classes_))\n",
    "perfume_df.columns"
   ]
  },
  {
   "cell_type": "markdown",
   "id": "stable-dragon",
   "metadata": {},
   "source": [
    "### DictVectorizer"
   ]
  },
  {
   "cell_type": "code",
   "execution_count": null,
   "id": "danish-roulette",
   "metadata": {},
   "outputs": [],
   "source": [
    "# convert Accords dict to multiple features columns\n",
    "dv = DictVectorizer()\n",
    "X_accords = dv.fit_transform(perfume_df.accords)\n",
    "perfume_df = perfume_df.join(pd.DataFrame(X_accords, columns=dv.classes_))\n",
    "perfume_df.columns"
   ]
  },
  {
   "cell_type": "markdown",
   "id": "naval-calculator",
   "metadata": {},
   "source": [
    "### X (data) and y (target)"
   ]
  },
  {
   "cell_type": "code",
   "execution_count": null,
   "id": "adolescent-leather",
   "metadata": {},
   "outputs": [],
   "source": [
    "# drop unnecessary columns\n",
    "original_X = perfume_df.drop([\"_id\", \"brand\", \"title\", \"date\", \"accords\", \"rating_score\", \"votes\", \"gender\", \"notes_3\", \"notes_4\", \"notes_5\", \"notes_6\", \"notes_7\", \"notes_8\", \"notes_9\", \"notes_10\", \"notes_11\", \"notes_12\", \"notes_13\", \"notes_14\", \"notes_15\", \"notes_16\", \"notes_17\", \"notes_18\", \"notes_19\", \"notes_10\"], axis=1)\n",
    "y = perfume_df[\"rating_score\"].values.reshape(-1, 1)\n",
    "print(X.shape, y.shape)"
   ]
  },
  {
   "cell_type": "markdown",
   "id": "proud-paragraph",
   "metadata": {},
   "source": [
    "### Dummy Encoding (Binary Encoded Data)"
   ]
  },
  {
   "cell_type": "code",
   "execution_count": null,
   "id": "private-discretion",
   "metadata": {},
   "outputs": [],
   "source": [
    "data = original_X.copy()\n",
    "X = pd.get_dummies(data)\n",
    "X.head()"
   ]
  },
  {
   "cell_type": "markdown",
   "id": "skilled-apollo",
   "metadata": {},
   "source": [
    "## Train and Test data"
   ]
  },
  {
   "cell_type": "code",
   "execution_count": null,
   "id": "otherwise-bargain",
   "metadata": {},
   "outputs": [],
   "source": [
    "# Split the data into training and testing\n",
    "# X_train, X_test, y_train, y_test = train_test_split(X, y, random_state=42)\n",
    "X_train_scaled, X_test_scaled, y_train_scaled, y_test_scaled = train_test_split(X, y, random_state=42)"
   ]
  },
  {
   "cell_type": "code",
   "execution_count": null,
   "id": "academic-arena",
   "metadata": {},
   "outputs": [],
   "source": [
    "# Create a StandardScater model and fit it to the training data\n",
    "\n",
    "# X_scaler = StandardScaler().fit(X_train)\n",
    "# y_scaler = StandardScaler().fit(y_train)"
   ]
  },
  {
   "cell_type": "code",
   "execution_count": null,
   "id": "cross-cyprus",
   "metadata": {},
   "outputs": [],
   "source": [
    "# Transform the training and testing data using the X_scaler and y_scaler models\n",
    "\n",
    "# X_train_scaled = X_scaler.transform(X_train)\n",
    "# X_test_scaled = X_scaler.transform(X_test)\n",
    "# y_train_scaled = y_scaler.transform(y_train)\n",
    "# y_test_scaled = y_scaler.transform(y_test)"
   ]
  },
  {
   "cell_type": "markdown",
   "id": "occupied-valentine",
   "metadata": {},
   "source": [
    "## Linear Regression Model"
   ]
  },
  {
   "cell_type": "code",
   "execution_count": null,
   "id": "premium-orange",
   "metadata": {},
   "outputs": [],
   "source": [
    "# Create a LinearRegression model and fit it to the scaled training data\n",
    "\n",
    "model = LinearRegression()\n",
    "model.fit(X_train_scaled, y_train_scaled)\n"
   ]
  },
  {
   "cell_type": "markdown",
   "id": "welcome-turkish",
   "metadata": {},
   "source": [
    "### Mean Squared Error and R2"
   ]
  },
  {
   "cell_type": "code",
   "execution_count": null,
   "id": "analyzed-technique",
   "metadata": {},
   "outputs": [],
   "source": [
    "# Used X_test_scaled, y_test_scaled, and model.predict(X_test_scaled) to calculate MSE and R2\n",
    "predictions = model.predict(X_test_scaled)\n",
    "MSE = mean_squared_error(y_test_scaled, predictions)\n",
    "r2 = model.score(X_test_scaled, y_test_scaled)\n",
    "\n",
    "print(f\"MSE: {MSE}, R2: {r2}\")"
   ]
  },
  {
   "cell_type": "markdown",
   "id": "tired-introduction",
   "metadata": {},
   "source": [
    "### Lasso Model"
   ]
  },
  {
   "cell_type": "code",
   "execution_count": null,
   "id": "disciplinary-usage",
   "metadata": {},
   "outputs": [],
   "source": [
    "lasso = Lasso(alpha=.01).fit(X_train_scaled, y_train_scaled)\n",
    "\n",
    "predictions = lasso.predict(X_test_scaled)\n",
    "\n",
    "MSE = mean_squared_error(y_test_scaled, predictions)\n",
    "r2 = lasso.score(X_test_scaled, y_test_scaled)\n",
    "\n",
    "print(f\"MSE: {MSE}, R2: {r2}\")"
   ]
  },
  {
   "cell_type": "markdown",
   "id": "bored-cycle",
   "metadata": {},
   "source": [
    "### Ridge Model"
   ]
  },
  {
   "cell_type": "code",
   "execution_count": null,
   "id": "suffering-correlation",
   "metadata": {},
   "outputs": [],
   "source": [
    "ridge = Ridge(alpha=.01).fit(X_train_scaled, y_train_scaled)\n",
    "\n",
    "predictions = ridge.predict(X_test_scaled)\n",
    "\n",
    "MSE = mean_squared_error(y_test_scaled, predictions)\n",
    "r2 = ridge.score(X_test_scaled, y_test_scaled)\n",
    "\n",
    "print(f\"MSE: {MSE}, R2: {r2}\")"
   ]
  },
  {
   "cell_type": "markdown",
   "id": "beginning-palmer",
   "metadata": {},
   "source": [
    "### ElasticNet model"
   ]
  },
  {
   "cell_type": "code",
   "execution_count": null,
   "id": "exciting-sleep",
   "metadata": {},
   "outputs": [],
   "source": [
    "elasticnet = ElasticNet(alpha=.01).fit(X_train_scaled, y_train_scaled)\n",
    "\n",
    "predictions = elasticnet.predict(X_test_scaled)\n",
    "\n",
    "MSE = mean_squared_error(y_test_scaled, predictions)\n",
    "r2 = elasticnet.score(X_test_scaled, y_test_scaled)\n",
    "\n",
    "print(f\"MSE: {MSE}, R2: {r2}\")"
   ]
  },
  {
   "cell_type": "markdown",
   "id": "sublime-stamp",
   "metadata": {},
   "source": [
    "### Save the Model"
   ]
  },
  {
   "cell_type": "code",
   "execution_count": null,
   "id": "superb-mortgage",
   "metadata": {},
   "outputs": [],
   "source": []
  }
 ],
 "metadata": {
  "kernelspec": {
   "display_name": "Python 3",
   "language": "python",
   "name": "python3"
  },
  "language_info": {
   "codemirror_mode": {
    "name": "ipython",
    "version": 3
   },
   "file_extension": ".py",
   "mimetype": "text/x-python",
   "name": "python",
   "nbconvert_exporter": "python",
   "pygments_lexer": "ipython3",
   "version": "3.6.12"
  }
 },
 "nbformat": 4,
 "nbformat_minor": 5
}
