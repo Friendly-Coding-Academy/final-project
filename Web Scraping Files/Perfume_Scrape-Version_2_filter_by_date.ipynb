{
 "cells": [
  {
   "cell_type": "code",
   "execution_count": 1,
   "id": "patient-hindu",
   "metadata": {
    "scrolled": false
   },
   "outputs": [],
   "source": [
    "from splinter import Browser\n",
    "from bs4 import BeautifulSoup as bs\n",
    "import time\n",
    "from webdriver_manager.chrome import ChromeDriverManager\n",
    "import requests\n",
    "import pandas as pd\n",
    "import re\n",
    "import selenium\n",
    "from pandas import DataFrame\n",
    "import json"
   ]
  },
  {
   "cell_type": "code",
   "execution_count": 2,
   "id": "happy-delivery",
   "metadata": {
    "scrolled": false
   },
   "outputs": [],
   "source": [
    "def init_browser():\n",
    "    # @NOTE: Replace the path with your actual path to the chromedriver\n",
    "    executable_path = {\"executable_path\": ChromeDriverManager().install()}\n",
    "    return Browser(\"chrome\", **executable_path, headless=False)"
   ]
  },
  {
   "cell_type": "code",
   "execution_count": 23,
   "id": "preliminary-increase",
   "metadata": {
    "scrolled": false
   },
   "outputs": [
    {
     "name": "stderr",
     "output_type": "stream",
     "text": [
      "[WDM] - ====== WebDriver manager ======\n",
      "[WDM] - Current google-chrome version is 88.0.4324\n",
      "[WDM] - Get LATEST driver version for 88.0.4324\n",
      "[WDM] - Driver [/Users/jenniferdean/.wdm/drivers/chromedriver/mac64/88.0.4324.96/chromedriver] found in cache\n"
     ]
    },
    {
     "name": "stdout",
     "output_type": "stream",
     "text": [
      "\n",
      "\n"
     ]
    }
   ],
   "source": [
    "browser = init_browser()\n",
    "url = \"https://www.fragrantica.com/search/\"\n",
    "browser.visit(url)"
   ]
  },
  {
   "cell_type": "code",
   "execution_count": 50,
   "id": "cathedral-variance",
   "metadata": {},
   "outputs": [],
   "source": [
    "html = browser.html\n",
    "soup = bs(html, \"html.parser\")"
   ]
  },
  {
   "cell_type": "code",
   "execution_count": 48,
   "id": "brown-julian",
   "metadata": {
    "scrolled": false
   },
   "outputs": [],
   "source": [
    "# for i in range(1920,2021):\n",
    "#     browser.find_by_css('input[type=\"number\"]')[1].fill(i)\n",
    "#     browser.find_by_css('input[type=\"number\"]')[0].fill(i)\n",
    "#     time.sleep(1)\n",
    "#     for i in range(0,34):\n",
    "#         browser.find_by_css('button[class=\"button\"]').click()\n",
    "    \n",
    "#     html = browser.html\n",
    "#     soup = bs(html, \"html.parser\")\n",
    "    \n",
    "#     block1 = soup.find(\"span\", class_=\"grid-x grid-margin-x grid-margin-y small-up-3 medium-up-2 large-up-4 perfumes-row text-center\")\n",
    "#     perfume_name_list = []\n",
    "#     for perf_text in block1.find_all(\"a\", href=True):\n",
    "#         perf_name = perf_text.get_text()\n",
    "#         perfume_name_list.append(perf_name.replace('\\n', '').strip(\" \"))"
   ]
  },
  {
   "cell_type": "code",
   "execution_count": null,
   "id": "excessive-clinton",
   "metadata": {
    "scrolled": false
   },
   "outputs": [],
   "source": [
    "for i in range(1920,2021):\n",
    "    #try:\n",
    "        ####### CHANGE THE YEAR SETTING #######\n",
    "        browser.find_by_css('input[type=\"number\"]')[1].fill(i)\n",
    "        browser.find_by_css('input[type=\"number\"]')[0].fill(i)\n",
    "        time.sleep(2)\n",
    "\n",
    "        ####### CLICK \"SHOW MORE RESULTS\" #######\n",
    "        ####### with this coded out, we only get 40 results per year ######\n",
    "#         for j in range(0,34):\n",
    "#             browser.find_by_css('button[class=\"button\"]').click()\n",
    "            \n",
    "        html = browser.html\n",
    "        soup = bs(html, \"html.parser\")\n",
    "\n",
    "        ####### GET THE LENGTH OF THE RESULTS #######\n",
    "        block1 = soup.find(\"span\", class_=\"grid-x grid-margin-x grid-margin-y small-up-3 medium-up-2 large-up-4 perfumes-row text-center\")\n",
    "        perfume_name_list = []\n",
    "        \n",
    "        for perf_text in block1.find_all(\"a\", href=True):\n",
    "            perf_name = perf_text.get_text()\n",
    "            perfume_name_list.append(perf_name.replace('\\n', '').strip(\" \"))\n",
    "\n",
    "        ####### START ITERATING THROUGH THE PERFUMES OF THAT YEAR #######    \n",
    "        list_of_perfume_dicts = [] \n",
    "\n",
    "        for k in range(len(perfume_name_list)):\n",
    "            html = browser.html\n",
    "            soup = bs(html, \"html.parser\")\n",
    "\n",
    "            browser.find_by_css('span[class=\"link-span\"]')[k].click()\n",
    "\n",
    "            time.sleep(2)\n",
    "\n",
    "            html = browser.html\n",
    "            soup = bs(html, \"html.parser\")\n",
    "\n",
    "            time.sleep(1)\n",
    "\n",
    "            ####### PULL FROM ORIGINAL NAME LIST #######\n",
    "            perfume_name = soup.find_all(\"div\", class_=\"cell small-12\")[3].find_all(\"b\")[0].get_text()\n",
    "            perfume_comp = soup.find_all(\"div\", class_=\"cell small-12\")[3].find_all(\"b\")[1].get_text()\n",
    "\n",
    "            perfume_image = soup.find_all(\"div\", class_=\"cell small-12\")[1].find(\"img\")[\"src\"]\n",
    "\n",
    "            for_gender = soup.find(\"small\").get_text()\n",
    "\n",
    "            rating = float(soup.find(\"p\", class_=\"info-note\").find_all(\"span\")[0].get_text())\n",
    "\n",
    "            number_votes = int(soup.find(\"p\", class_=\"info-note\").find_all(\"span\")[2].get_text().replace(',', ''))\n",
    "\n",
    "            description = soup.find_all(\"div\", class_=\"cell small-12\")[3].get_text()\n",
    "\n",
    "\n",
    "            ####### MAIN ACCORDS DICTIONARY #######\n",
    "            main_accords = soup.find_all(\"div\", class_=\"cell accord-box\")\n",
    "\n",
    "            accords_dict = {}\n",
    "            for m in range(len(main_accords)):\n",
    "                accord_name = main_accords[m].get_text()\n",
    "                accord_value = float(main_accords[m].find(\"div\", class_=\"accord-bar\")[\"style\"].rsplit(\"width: \")[1].strip(\"%;\"))\n",
    "                accords_dict[accord_name] = accord_value\n",
    "\n",
    "            ####### FRAGRANCE NOTES #######        \n",
    "            notes = soup.find_all(\"div\", attrs={\"style\": \"display: flex; justify-content: center; text-align: center; flex-flow: row wrap; align-items: flex-end; padding: 0.5rem;\"})\n",
    "\n",
    "            if len(notes) == 3:\n",
    "                number = 2\n",
    "                top_notes_list = []\n",
    "                middle_notes_list = []\n",
    "                base_notes_list = []\n",
    "\n",
    "                for n in range(len(notes[0].find_all(\"span\", class_=\"link-span\"))):\n",
    "                    top_notes_list.append(notes[0].find_all(\"div\")[number].get_text())\n",
    "                    number += 3\n",
    "\n",
    "                number = 2\n",
    "                for p in range(len(notes[1].find_all(\"span\", class_=\"link-span\"))):\n",
    "                    middle_notes_list.append(notes[1].find_all(\"div\")[number].get_text())\n",
    "                    number += 3\n",
    "\n",
    "                number = 2\n",
    "                for q in range(len(notes[2].find_all(\"span\", class_=\"link-span\"))):\n",
    "                    base_notes_list.append(notes[2].find_all(\"div\")[number].get_text())\n",
    "                    number += 3\n",
    "            elif len(notes) == 2:\n",
    "                number = 2\n",
    "                top_notes_list = []\n",
    "                middle_notes_list = []\n",
    "                base_notes_list = []\n",
    "\n",
    "                for r in range(len(notes[0].find_all(\"span\", class_=\"link-span\"))):\n",
    "                    top_notes_list.append(notes[0].find_all(\"div\")[number].get_text())\n",
    "                    number += 3\n",
    "\n",
    "                number = 2\n",
    "                for s in range(len(notes[1].find_all(\"span\", class_=\"link-span\"))):\n",
    "                    middle_notes_list.append(notes[1].find_all(\"div\")[number].get_text())\n",
    "                    number += 3\n",
    "            elif len(notes) == 1:\n",
    "                number = 2\n",
    "                top_notes_list = []\n",
    "                middle_notes_list = []\n",
    "                base_notes_list = []\n",
    "\n",
    "                for v in range(len(notes[0].find_all(\"span\", class_=\"link-span\"))):\n",
    "                    middle_notes_list.append(notes[0].find_all(\"div\")[number].get_text())\n",
    "                    number += 3\n",
    "            else:\n",
    "                top_notes_list = []\n",
    "                middle_notes_list = []\n",
    "                base_notes_list = []\n",
    "\n",
    "            ####### VOTING DATA & INFORMATION #######\n",
    "            voting = soup.find_all(\"div\", class_=\"cell small-1 medium-1 large-1\")\n",
    "\n",
    "            ####### Longevity #######\n",
    "            long_v_weak = int(voting[0].get_text())\n",
    "            long_weak = int(voting[1].get_text())\n",
    "            long_moderate = int(voting[2].get_text())\n",
    "            long_long_last = int(voting[3].get_text())\n",
    "            long_eternal = int(voting[4].get_text())\n",
    "\n",
    "            ####### Sillage #######\n",
    "            sill_intimate = int(voting[5].get_text())\n",
    "            sill_moderate = int(voting[6].get_text())\n",
    "            sill_strong = int(voting[7].get_text())\n",
    "            sill_enormus = int(voting[8].get_text())\n",
    "\n",
    "            ####### Gender #######\n",
    "            gender_female = int(voting[9].get_text())\n",
    "            gender_more_fem = int(voting[10].get_text())\n",
    "            gender_unisex = int(voting[11].get_text())\n",
    "            gender_more_male = int(voting[12].get_text())\n",
    "            gender_male = int(voting[13].get_text())\n",
    "\n",
    "            ####### Price Value #######\n",
    "            value_w_over = int(voting[14].get_text())\n",
    "            value_over = int(voting[15].get_text())\n",
    "            value_ok = int(voting[16].get_text())\n",
    "            value_good = int(voting[17].get_text())\n",
    "            value_great = int(voting[18].get_text())\n",
    "\n",
    "            ####### CREATING THE DICTIONARY OF DATA #######\n",
    "            perfume_dict = {\"name\": perfume_name,\n",
    "                            \"company\": perfume_comp,\n",
    "                            \"image\": perfume_image,\n",
    "                            \"for_gender\": for_gender,\n",
    "                            \"rating\": rating,\n",
    "                            \"number_votes\": number_votes,\n",
    "                            \"main accords\": accords_dict,\n",
    "                            \"description\": description,\n",
    "                            \"top notes\": top_notes_list,\n",
    "                            \"middle notes\": middle_notes_list,\n",
    "                            \"base notes\": base_notes_list,\n",
    "                            \"longevity\":   {\"very weak\": long_v_weak,\n",
    "                                            \"weak\": long_weak,\n",
    "                                            \"moderate\": long_moderate,\n",
    "                                            \"long lasting\": long_long_last,\n",
    "                                            \"eternal\": long_eternal},\n",
    "                            \"sillage\":     {\"intimate\": sill_intimate,\n",
    "                                            \"moderate\": sill_moderate,\n",
    "                                            \"strong\": sill_strong,\n",
    "                                            \"enormous\": sill_enormus},\n",
    "                            \"gender_vote\": {\"female\": gender_female,\n",
    "                                            \"more female\": gender_more_fem,\n",
    "                                            \"unisex\": gender_unisex,\n",
    "                                            \"more male\": gender_more_male,\n",
    "                                            \"male\": gender_male},\n",
    "                            \"price value\": {\"way overpriced\": value_w_over,\n",
    "                                            \"overpriced\": value_over,\n",
    "                                            \"ok\": value_ok,\n",
    "                                            \"good value\": value_good,\n",
    "                                            \"great value\": value_great}\n",
    "                           }\n",
    "            list_of_perfume_dicts.append(perfume_dict)\n",
    "\n",
    "            time.sleep(2)\n",
    "\n",
    "            browser.back()\n",
    "        \n",
    "#     except:\n",
    "#         print(f\"Error with {i} year - skipping to next year\")\n",
    "#         print(f\"-------------------------------------------\")"
   ]
  },
  {
   "cell_type": "code",
   "execution_count": 15,
   "id": "western-vegetarian",
   "metadata": {},
   "outputs": [
    {
     "data": {
      "text/plain": [
       "['Bain de Champagne (Royal Bain de Caron)',\n",
       " 'Felce Azzurra',\n",
       " 'Narcisse Blanc',\n",
       " 'Narcisse Blanc Parfum',\n",
       " 'Paris',\n",
       " 'Le Jade',\n",
       " 'Le Chick Chick',\n",
       " 'Violetera',\n",
       " 'Le Jardin de Ma Soeur',\n",
       " 'Le Beau Soir',\n",
       " 'Ptah',\n",
       " 'Valée des Rois',\n",
       " 'Misti',\n",
       " 'Flo']"
      ]
     },
     "execution_count": 15,
     "metadata": {},
     "output_type": "execute_result"
    }
   ],
   "source": [
    "perfume_name_list"
   ]
  },
  {
   "cell_type": "code",
   "execution_count": null,
   "id": "military-update",
   "metadata": {},
   "outputs": [],
   "source": [
    "len(list_of_perfume_dicts)"
   ]
  },
  {
   "cell_type": "code",
   "execution_count": null,
   "id": "fourth-controversy",
   "metadata": {},
   "outputs": [],
   "source": [
    "list_of_perfume_dicts"
   ]
  },
  {
   "cell_type": "code",
   "execution_count": null,
   "id": "restricted-rogers",
   "metadata": {},
   "outputs": [],
   "source": []
  },
  {
   "cell_type": "code",
   "execution_count": null,
   "id": "recent-baking",
   "metadata": {},
   "outputs": [],
   "source": []
  },
  {
   "cell_type": "code",
   "execution_count": null,
   "id": "fitting-washer",
   "metadata": {
    "scrolled": true
   },
   "outputs": [],
   "source": [
    "notes = soup.find_all(\"div\", attrs={\"style\": \"display: flex; justify-content: center; text-align: center; flex-flow: row wrap; align-items: flex-end; padding: 0.5rem;\"})\n",
    "number = 2\n",
    "top_notes_list = []\n",
    "middle_notes_list = []\n",
    "base_notes_list = []\n",
    "\n",
    "for i in range(len(notes[0].find_all(\"span\", class_=\"link-span\"))):\n",
    "    top_notes_list.append(notes[0].find_all(\"div\")[number].get_text())\n",
    "    number += 3\n",
    "\n",
    "number = 2\n",
    "for i in range(len(notes[1].find_all(\"span\", class_=\"link-span\"))):\n",
    "    middle_notes_list.append(notes[1].find_all(\"div\")[number].get_text())\n",
    "    number += 3\n",
    "\n",
    "number = 2\n",
    "for i in range(len(notes[2].find_all(\"span\", class_=\"link-span\"))):\n",
    "    base_notes_list.append(notes[2].find_all(\"div\")[number].get_text())\n",
    "    number += 3\n",
    "    \n",
    "top_notes_list"
   ]
  },
  {
   "cell_type": "code",
   "execution_count": 18,
   "id": "rubber-taiwan",
   "metadata": {
    "scrolled": true
   },
   "outputs": [
    {
     "data": {
      "text/plain": [
       "'Knize Ten'"
      ]
     },
     "execution_count": 18,
     "metadata": {},
     "output_type": "execute_result"
    }
   ],
   "source": [
    "perfume_name"
   ]
  },
  {
   "cell_type": "code",
   "execution_count": null,
   "id": "fallen-hormone",
   "metadata": {
    "scrolled": true
   },
   "outputs": [],
   "source": [
    "with open (\"perfume_data.json\", \"w\") as f:\n",
    "    json.dump(list_of_perfume_dicts, f)"
   ]
  },
  {
   "cell_type": "code",
   "execution_count": null,
   "id": "geographic-cloud",
   "metadata": {
    "scrolled": false
   },
   "outputs": [],
   "source": [
    "#Clicking into the individual perfumes\n",
    "\n",
    "browser.find_by_css('span[class=\"link-span\"]')[0].click()"
   ]
  },
  {
   "cell_type": "code",
   "execution_count": null,
   "id": "generic-olive",
   "metadata": {
    "scrolled": false
   },
   "outputs": [],
   "source": [
    "html = browser.html\n",
    "soup = bs(html, \"html.parser\")"
   ]
  },
  {
   "cell_type": "code",
   "execution_count": 17,
   "id": "about-disposition",
   "metadata": {
    "scrolled": false
   },
   "outputs": [
    {
     "data": {
      "text/plain": [
       "[]"
      ]
     },
     "execution_count": 17,
     "metadata": {},
     "output_type": "execute_result"
    }
   ],
   "source": [
    "list_of_perfume_dicts"
   ]
  },
  {
   "cell_type": "code",
   "execution_count": null,
   "id": "suburban-sigma",
   "metadata": {
    "scrolled": false
   },
   "outputs": [],
   "source": [
    "perfume_name_list = []\n",
    "perfume_company_list = []\n",
    "\n",
    "block1 = soup.find(\"span\", class_=\"grid-x grid-margin-x grid-margin-y small-up-3 medium-up-2 large-up-4 perfumes-row text-center\")\n",
    "\n",
    "for perf_text in block1.find_all(\"a\", href=True):\n",
    "    perf_name = perf_text.get_text()\n",
    "    perfume_name_list.append(perf_name.replace('\\n', '').strip(\" \"))\n",
    "\n",
    "for company_text in block1.find_all(\"p\"):\n",
    "    if company_text.small != None:  \n",
    "        perfume_company_list.append(company_text.small.get_text())"
   ]
  }
 ],
 "metadata": {
  "kernelspec": {
   "display_name": "Python 3",
   "language": "python",
   "name": "python3"
  },
  "language_info": {
   "codemirror_mode": {
    "name": "ipython",
    "version": 3
   },
   "file_extension": ".py",
   "mimetype": "text/x-python",
   "name": "python",
   "nbconvert_exporter": "python",
   "pygments_lexer": "ipython3",
   "version": "3.6.12"
  }
 },
 "nbformat": 4,
 "nbformat_minor": 5
}
