{
 "cells": [
  {
   "cell_type": "code",
   "execution_count": 1,
   "id": "patient-hindu",
   "metadata": {},
   "outputs": [],
   "source": [
    "from splinter import Browser\n",
    "from bs4 import BeautifulSoup as bs\n",
    "import time\n",
    "from webdriver_manager.chrome import ChromeDriverManager\n",
    "import requests\n",
    "import pandas as pd\n",
    "import re\n",
    "import selenium\n",
    "from pandas import DataFrame"
   ]
  },
  {
   "cell_type": "code",
   "execution_count": 2,
   "id": "happy-delivery",
   "metadata": {},
   "outputs": [],
   "source": [
    "def init_browser():\n",
    "    # @NOTE: Replace the path with your actual path to the chromedriver\n",
    "    executable_path = {\"executable_path\": ChromeDriverManager().install()}\n",
    "    return Browser(\"chrome\", **executable_path, headless=False)"
   ]
  },
  {
   "cell_type": "code",
   "execution_count": 3,
   "id": "preliminary-increase",
   "metadata": {},
   "outputs": [
    {
     "name": "stderr",
     "output_type": "stream",
     "text": [
      "[WDM] - ====== WebDriver manager ======\n",
      "[WDM] - Current google-chrome version is 88.0.4324\n",
      "[WDM] - Get LATEST driver version for 88.0.4324\n",
      "[WDM] - Driver [/Users/jenniferdean/.wdm/drivers/chromedriver/mac64/88.0.4324.96/chromedriver] found in cache\n"
     ]
    },
    {
     "name": "stdout",
     "output_type": "stream",
     "text": [
      "\n",
      "\n"
     ]
    }
   ],
   "source": [
    "browser = init_browser()\n",
    "url = \"https://www.fragrantica.com/search/\"\n",
    "browser.visit(url)"
   ]
  },
  {
   "cell_type": "code",
   "execution_count": 11,
   "id": "addressed-stranger",
   "metadata": {},
   "outputs": [],
   "source": [
    "html = browser.html\n",
    "soup = bs(html, \"html.parser\")"
   ]
  },
  {
   "cell_type": "code",
   "execution_count": null,
   "id": "supposed-novelty",
   "metadata": {},
   "outputs": [],
   "source": [
    "for i in range(1920,2021)\n",
    "    browser.find_by_css('input[type=\"number\"]')[0].fill(2020)\n",
    "    browser.find_by_css('input[type=\"number\"]')[1].fill(2020)"
   ]
  },
  {
   "cell_type": "code",
   "execution_count": null,
   "id": "incoming-transformation",
   "metadata": {},
   "outputs": [],
   "source": []
  },
  {
   "cell_type": "code",
   "execution_count": null,
   "id": "honest-active",
   "metadata": {},
   "outputs": [],
   "source": []
  },
  {
   "cell_type": "code",
   "execution_count": null,
   "id": "brazilian-suspect",
   "metadata": {},
   "outputs": [],
   "source": []
  },
  {
   "cell_type": "code",
   "execution_count": 37,
   "id": "amended-cooper",
   "metadata": {},
   "outputs": [],
   "source": [
    "for i in range(0,34):\n",
    "    browser.find_by_css('button[class=\"button\"]').click()"
   ]
  },
  {
   "cell_type": "code",
   "execution_count": 42,
   "id": "exotic-charlotte",
   "metadata": {},
   "outputs": [],
   "source": [
    "html = browser.html\n",
    "soup = bs(html, \"html.parser\")"
   ]
  },
  {
   "cell_type": "code",
   "execution_count": 6,
   "id": "particular-tension",
   "metadata": {},
   "outputs": [],
   "source": [
    "block1 = soup.find(\"span\", class_=\"grid-x grid-margin-x grid-margin-y small-up-3 medium-up-2 large-up-4 perfumes-row text-center\")"
   ]
  },
  {
   "cell_type": "code",
   "execution_count": 9,
   "id": "experimental-landscape",
   "metadata": {},
   "outputs": [
    {
     "name": "stdout",
     "output_type": "stream",
     "text": [
      "Knize Ten\n",
      "Les Exclusifs de Chanel Bel Respiro\n",
      "Eau de Fleurs de Cedrat\n",
      "Lily of the Valley\n",
      "Ellada\n",
      "Lysval\n",
      "Eva\n",
      "Novaya Zarya\n",
      "Sweet Pea Душистый горошек\n",
      "Eau perlee\n",
      "Eau de Cologne L'Originale\n",
      "Eau givree\n",
      "Eau nacree\n",
      "Eau irisee\n",
      "Eau epicee\n",
      "Eau boisee\n",
      "Mury\n",
      "Lavande\n",
      "Jeux\n",
      "Heliotrope\n",
      "Cuir de Russie\n",
      "Lacdor\n"
     ]
    }
   ],
   "source": [
    "#COLLECT PERFUME NAME\n",
    "\n",
    "perfume_name_list = []\n",
    "\n",
    "for perf_text in block1.find_all(\"a\", href=True):\n",
    "    perf_name = perf_text.get_text()\n",
    "    print(perf_name.replace('\\n', '').strip(\" \"))\n",
    "    perfume_name.append(perf_name.replace('\\n', '').strip(\" \"))"
   ]
  },
  {
   "cell_type": "code",
   "execution_count": 10,
   "id": "copyrighted-syndrome",
   "metadata": {},
   "outputs": [
    {
     "name": "stdout",
     "output_type": "stream",
     "text": [
      "Knize\n",
      "Chanel\n",
      "Guerlain\n",
      "Yardley\n",
      "Severnoye Siyanie\n",
      "Girard\n",
      "Lubin\n",
      "Nouvelle Etoile – Новая Заря\n",
      "Nouvelle Etoile – Новая Заря\n",
      "Jardin de France\n",
      "Mont St Michel\n",
      "Jardin de France\n",
      "Jardin de France\n",
      "Jardin de France\n",
      "Jardin de France\n",
      "Jardin de France\n",
      "Mury Paris\n",
      "Mury Paris\n",
      "Mury Paris\n",
      "Mury Paris\n",
      "Mury Paris\n",
      "Lubin\n"
     ]
    }
   ],
   "source": [
    "#COLLECT COMPANY NAME\n",
    "perfume_company_list = []\n",
    "\n",
    "for company_text in block1.find_all(\"p\"):\n",
    "    if company_text.small != None:  \n",
    "        print (company_text.small.get_text())\n",
    "        perfume_company.append(company_text.small.get_text())"
   ]
  },
  {
   "cell_type": "code",
   "execution_count": 24,
   "id": "excessive-clinton",
   "metadata": {},
   "outputs": [
    {
     "data": {
      "text/plain": [
       "'Maison Francis Kurkdjian'"
      ]
     },
     "execution_count": 24,
     "metadata": {},
     "output_type": "execute_result"
    }
   ],
   "source": [
    "for i in range(len(perfume_name)):\n",
    "    browser.find_by_css('span[class=\"link-span\"]')[i].click()\n",
    "    \n",
    "    html = browser.html\n",
    "    soup = bs(html, \"html.parser\")\n",
    "    \n",
    "    perfume_name = perfume_name_list[i]\n",
    "    perfume_comp = perfume_company_list[i]\n",
    "    \n",
    "    for_gender = soup.find(\"small\").get_text()\n",
    "    \n",
    "    perfume_image = soup.find_all(\"div\", class_=\"cell small-12\")[1].find(\"img\")[\"src\"]\n",
    "    \n",
    "    rating = float(soup.find(\"p\", class_=\"info-note\").find_all(\"span\")[0].get_text())\n",
    "    \n",
    "    number_votes = int(soup.find(\"p\", class_=\"info-note\").find_all(\"span\")[2].get_text().replace(',', ''))\n",
    "\n",
    "    description = soup.find_all(\"div\", class_=\"cell small-12\")[3].get_text()\n",
    "\n",
    "    main_accords = soup.find_all(\"div\", class_=\"cell accord-box\")\n",
    "        for j in main_accords:\n",
    "            accord_name = main_accords[j].get_text()\n",
    "            accord_value = float(main_accords[j].find(\"div\", class_=\"accord-bar\")[\"style\"].rsplit(\"width: \")[1].strip(\"%;\"))\n",
    "            \n",
    "    notes = soup.find_all(\"div\", attrs={\"style\": \"display: flex; justify-content: center; text-align: center; flex-flow: row wrap; align-items: flex-end; padding: 0.5rem;\"})\n",
    "    #Top Notes\n",
    "    print(notes[0].find_all(\"div\")[0].get_text())\n",
    "    print(notes[0].find_all(\"div\")[3].get_text())\n",
    "\n",
    "    #Middle Notes\n",
    "    print(notes[1].find_all(\"div\")[0].get_text())\n",
    "    print(notes[1].find_all(\"div\")[3].get_text())\n",
    "\n",
    "    #Base Notes\n",
    "    print(notes[2].find_all(\"div\")[0].get_text())\n",
    "    print(notes[2].find_all(\"div\")[3].get_text())\n",
    "\n",
    "    "
   ]
  },
  {
   "cell_type": "code",
   "execution_count": 55,
   "id": "assured-nation",
   "metadata": {},
   "outputs": [
    {
     "data": {
      "text/plain": [
       "1000"
      ]
     },
     "execution_count": 55,
     "metadata": {},
     "output_type": "execute_result"
    }
   ],
   "source": [
    "len(perfume_name)"
   ]
  },
  {
   "cell_type": "code",
   "execution_count": 48,
   "id": "documentary-waters",
   "metadata": {},
   "outputs": [],
   "source": [
    "browser.find_by_css('input[type=\"number\"]')[0].fill(2020)\n",
    "browser.find_by_css('input[type=\"number\"]')[1].fill(2020)"
   ]
  },
  {
   "cell_type": "code",
   "execution_count": 53,
   "id": "pressing-insulin",
   "metadata": {},
   "outputs": [],
   "source": [
    "for i in range(0,34):\n",
    "    browser.find_by_css('button[class=\"button\"]').click()"
   ]
  },
  {
   "cell_type": "code",
   "execution_count": null,
   "id": "interested-carol",
   "metadata": {},
   "outputs": [],
   "source": []
  },
  {
   "cell_type": "code",
   "execution_count": null,
   "id": "fallen-hormone",
   "metadata": {},
   "outputs": [],
   "source": []
  },
  {
   "cell_type": "code",
   "execution_count": null,
   "id": "refined-composition",
   "metadata": {},
   "outputs": [],
   "source": [
    "browser.find_by_css('button[class=\"button\"]').click()"
   ]
  },
  {
   "cell_type": "code",
   "execution_count": null,
   "id": "geographic-cloud",
   "metadata": {},
   "outputs": [],
   "source": [
    "#Clicking into the individual perfumes\n",
    "\n",
    "browser.find_by_css('span[class=\"link-span\"]')[0].click()"
   ]
  },
  {
   "cell_type": "code",
   "execution_count": null,
   "id": "generic-olive",
   "metadata": {},
   "outputs": [],
   "source": [
    "html = browser.html\n",
    "soup = bs(html, \"html.parser\")"
   ]
  },
  {
   "cell_type": "code",
   "execution_count": null,
   "id": "amber-proof",
   "metadata": {},
   "outputs": [],
   "source": [
    "for_gender = soup.find(\"small\").get_text()\n",
    "for_gender"
   ]
  },
  {
   "cell_type": "code",
   "execution_count": null,
   "id": "champion-turner",
   "metadata": {},
   "outputs": [],
   "source": [
    "perfume_image = soup.find_all(\"div\", class_=\"cell small-12\")[1].find(\"img\")[\"src\"]\n",
    "perfume_image"
   ]
  },
  {
   "cell_type": "code",
   "execution_count": null,
   "id": "graphic-equality",
   "metadata": {},
   "outputs": [],
   "source": [
    "#All Accords\n",
    "\n",
    "main_accords = soup.find_all(\"div\", class_=\"cell accord-box\")\n",
    "main_accords"
   ]
  },
  {
   "cell_type": "code",
   "execution_count": null,
   "id": "geographic-carrier",
   "metadata": {},
   "outputs": [],
   "source": [
    "accord_name = main_accords[1].get_text()\n",
    "accord_name"
   ]
  },
  {
   "cell_type": "code",
   "execution_count": null,
   "id": "complimentary-wallace",
   "metadata": {},
   "outputs": [],
   "source": [
    "accord_value = float(main_accords[1].find(\"div\", class_=\"accord-bar\")[\"style\"].rsplit(\"width: \")[1].strip(\"%;\"))\n",
    "accord_value"
   ]
  },
  {
   "cell_type": "code",
   "execution_count": null,
   "id": "accepting-single",
   "metadata": {},
   "outputs": [],
   "source": [
    "rating = float(soup.find(\"p\", class_=\"info-note\").find_all(\"span\")[0].get_text())\n",
    "rating"
   ]
  },
  {
   "cell_type": "code",
   "execution_count": null,
   "id": "creative-fairy",
   "metadata": {},
   "outputs": [],
   "source": [
    "number_votes = int(soup.find(\"p\", class_=\"info-note\").find_all(\"span\")[2].get_text().replace(',', ''))\n",
    "number_votes"
   ]
  },
  {
   "cell_type": "code",
   "execution_count": null,
   "id": "cloudy-boxing",
   "metadata": {},
   "outputs": [],
   "source": [
    "description = soup.find_all(\"div\", class_=\"cell small-12\")[3].get_text()\n",
    "description"
   ]
  },
  {
   "cell_type": "code",
   "execution_count": 12,
   "id": "champion-vegetable",
   "metadata": {},
   "outputs": [
    {
     "name": "stdout",
     "output_type": "stream",
     "text": [
      "Geranium\n",
      "Rosemary\n",
      "Carnation\n",
      "Patchouli\n",
      "Leather\n",
      "Castoreum\n"
     ]
    }
   ],
   "source": [
    "#All Notes\n",
    "\n",
    "notes = soup.find_all(\"div\", attrs={\"style\": \"display: flex; justify-content: center; text-align: center; flex-flow: row wrap; align-items: flex-end; padding: 0.5rem;\"})\n",
    "\n",
    "#Top Notes\n",
    "print(notes[0].find_all(\"div\")[0].get_text())\n",
    "print(notes[0].find_all(\"div\")[3].get_text())\n",
    "\n",
    "#Middle Notes\n",
    "print(notes[1].find_all(\"div\")[0].get_text())\n",
    "print(notes[1].find_all(\"div\")[3].get_text())\n",
    "\n",
    "#Base Notes\n",
    "print(notes[2].find_all(\"div\")[0].get_text())\n",
    "print(notes[2].find_all(\"div\")[3].get_text())\n"
   ]
  },
  {
   "cell_type": "code",
   "execution_count": 41,
   "id": "judicial-victoria",
   "metadata": {},
   "outputs": [
    {
     "name": "stdout",
     "output_type": "stream",
     "text": [
      "Rosemary\n",
      "Patchouli\n",
      "Castoreum\n"
     ]
    }
   ],
   "source": [
    "for i in range(len(notes)):\n",
    "    print(notes[i].find_all(\"div\")[5].get_text())"
   ]
  },
  {
   "cell_type": "code",
   "execution_count": 69,
   "id": "accredited-horror",
   "metadata": {},
   "outputs": [
    {
     "data": {
      "text/plain": [
       "[<div style=\"display: flex; justify-content: center; text-align: center; flex-flow: row wrap; align-items: flex-end; padding: 0.5rem;\"><div style=\"margin: 0.2rem; display: flex; justify-content: center; flex-direction: column; text-align: center; opacity: 0.881966; position: relative;\"><div><img loading=\"lazy\" src=\"https://fimgs.net/mdimg/sastojci/t.21.jpg\" style=\"width: 3.2rem;\"/></div><div><a href=\"https://www.fragrantica.com/notes/Geranium-21.html\"><span class=\"link-span\"></span></a>Geranium</div></div><div style=\"margin: 0.2rem; display: flex; justify-content: center; flex-direction: column; text-align: center; opacity: 0.840458; position: relative;\"><div><img loading=\"lazy\" src=\"https://fimgs.net/mdimg/sastojci/t.49.jpg\" style=\"width: 2.975rem;\"/></div><div><a href=\"https://www.fragrantica.com/notes/Rosemary-49.html\"><span class=\"link-span\"></span></a>Rosemary</div></div><div style=\"margin: 0.2rem; display: flex; justify-content: center; flex-direction: column; text-align: center; opacity: 0.820464; position: relative;\"><div><img loading=\"lazy\" src=\"https://fimgs.net/mdimg/sastojci/t.75.jpg\" style=\"width: 2.875rem;\"/></div><div><a href=\"https://www.fragrantica.com/notes/Bergamot-75.html\"><span class=\"link-span\"></span></a>Bergamot</div></div><div style=\"margin: 0.2rem; display: flex; justify-content: center; flex-direction: column; text-align: center; opacity: 0.820464; position: relative;\"><div><img loading=\"lazy\" src=\"https://fimgs.net/mdimg/sastojci/t.80.jpg\" style=\"width: 2.875rem;\"/></div><div><a href=\"https://www.fragrantica.com/notes/Orange-80.html\"><span class=\"link-span\"></span></a>Orange</div></div><div style=\"margin: 0.2rem; display: flex; justify-content: center; flex-direction: column; text-align: center; opacity: 0.815302; position: relative;\"><div><img loading=\"lazy\" src=\"https://fimgs.net/mdimg/sastojci/t.3.jpg\" style=\"width: 2.85rem;\"/></div><div><a href=\"https://www.fragrantica.com/notes/Petitgrain-3.html\"><span class=\"link-span\"></span></a>Petitgrain</div></div><div style=\"margin: 0.2rem; display: flex; justify-content: center; flex-direction: column; text-align: center; opacity: 0.7994; position: relative;\"><div><img loading=\"lazy\" src=\"https://fimgs.net/mdimg/sastojci/t.77.jpg\" style=\"width: 2.775rem;\"/></div><div><a href=\"https://www.fragrantica.com/notes/Lemon-77.html\"><span class=\"link-span\"></span></a>Amalfi Lemon</div></div></div>,\n",
       " <div style=\"display: flex; justify-content: center; text-align: center; flex-flow: row wrap; align-items: flex-end; padding: 0.5rem;\"><div style=\"margin: 0.2rem; display: flex; justify-content: center; flex-direction: column; text-align: center; opacity: 0.974022; position: relative;\"><div><img loading=\"lazy\" src=\"https://fimgs.net/mdimg/sastojci/t.7.jpg\" style=\"width: 3.8rem;\"/></div><div><a href=\"https://www.fragrantica.com/notes/Carnation-7.html\"><span class=\"link-span\"></span></a>Carnation</div></div><div style=\"margin: 0.2rem; display: flex; justify-content: center; flex-direction: column; text-align: center; opacity: 0.868629; position: relative;\"><div><img loading=\"lazy\" src=\"https://fimgs.net/mdimg/sastojci/t.34.jpg\" style=\"width: 3.125rem;\"/></div><div><a href=\"https://www.fragrantica.com/notes/Patchouli-34.html\"><span class=\"link-span\"></span></a>Patchouli</div></div><div style=\"margin: 0.2rem; display: flex; justify-content: center; flex-direction: column; text-align: center; opacity: 0.859468; position: relative;\"><div><img loading=\"lazy\" src=\"https://fimgs.net/mdimg/sastojci/t.33.jpg\" style=\"width: 3.075rem;\"/></div><div><a href=\"https://www.fragrantica.com/notes/Sandalwood-33.html\"><span class=\"link-span\"></span></a>Sandalwood</div></div><div style=\"margin: 0.2rem; display: flex; justify-content: center; flex-direction: column; text-align: center; opacity: 0.845299; position: relative;\"><div><img loading=\"lazy\" src=\"https://fimgs.net/mdimg/sastojci/t.101.jpg\" style=\"width: 3rem;\"/></div><div><a href=\"https://www.fragrantica.com/notes/Orris-Root-101.html\"><span class=\"link-span\"></span></a>Orris</div></div><div style=\"margin: 0.2rem; display: flex; justify-content: center; flex-direction: column; text-align: center; opacity: 0.835555; position: relative;\"><div><img loading=\"lazy\" src=\"https://fimgs.net/mdimg/sastojci/t.105.jpg\" style=\"width: 2.95rem;\"/></div><div><a href=\"https://www.fragrantica.com/notes/Rose-105.html\"><span class=\"link-span\"></span></a>tincture of rose</div></div><div style=\"margin: 0.2rem; display: flex; justify-content: center; flex-direction: column; text-align: center; opacity: 0.830589; position: relative;\"><div><img loading=\"lazy\" src=\"https://fimgs.net/mdimg/sastojci/t.41.jpg\" style=\"width: 2.925rem;\"/></div><div><a href=\"https://www.fragrantica.com/notes/Cedar-41.html\"><span class=\"link-span\"></span></a>Virginia Cedar</div></div><div style=\"margin: 0.2rem; display: flex; justify-content: center; flex-direction: column; text-align: center; opacity: 0.815302; position: relative;\"><div><img loading=\"lazy\" src=\"https://fimgs.net/mdimg/sastojci/t.65.jpg\" style=\"width: 2.85rem;\"/></div><div><a href=\"https://www.fragrantica.com/notes/Cinnamon-65.html\"><span class=\"link-span\"></span></a>Cinnamon</div></div><div style=\"margin: 0.2rem; display: flex; justify-content: center; flex-direction: column; text-align: center; opacity: 0.804771; position: relative;\"><div><img loading=\"lazy\" src=\"https://fimgs.net/mdimg/sastojci/t.16.jpg\" style=\"width: 2.8rem;\"/></div><div><a href=\"https://www.fragrantica.com/notes/Orange-Blossom-16.html\"><span class=\"link-span\"></span></a>Orange Blossom</div></div></div>,\n",
       " <div style=\"display: flex; justify-content: center; text-align: center; flex-flow: row wrap; align-items: flex-end; padding: 0.5rem;\"><div style=\"margin: 0.2rem; display: flex; justify-content: center; flex-direction: column; text-align: center; opacity: 1; position: relative;\"><div><img loading=\"lazy\" src=\"https://fimgs.net/mdimg/sastojci/t.156.jpg\" style=\"width: 5rem;\"/></div><div><a href=\"https://www.fragrantica.com/notes/Leather-156.html\"><span class=\"link-span\"></span></a>Leather</div></div><div style=\"margin: 0.2rem; display: flex; justify-content: center; flex-direction: column; text-align: center; opacity: 0.980706; position: relative;\"><div><img loading=\"lazy\" src=\"https://fimgs.net/mdimg/sastojci/t.102.jpg\" style=\"width: 3.85rem;\"/></div><div><a href=\"https://www.fragrantica.com/notes/Castoreum-102.html\"><span class=\"link-span\"></span></a>Castoreum</div></div><div style=\"margin: 0.2rem; display: flex; justify-content: center; flex-direction: column; text-align: center; opacity: 0.934753; position: relative;\"><div><img loading=\"lazy\" src=\"https://fimgs.net/mdimg/sastojci/t.39.jpg\" style=\"width: 3.525rem;\"/></div><div><a href=\"https://www.fragrantica.com/notes/Oakmoss-39.html\"><span class=\"link-span\"></span></a>oak moss</div></div><div style=\"margin: 0.2rem; display: flex; justify-content: center; flex-direction: column; text-align: center; opacity: 0.919314; position: relative;\"><div><img loading=\"lazy\" src=\"https://fimgs.net/mdimg/sastojci/t.54.jpg\" style=\"width: 3.425rem;\"/></div><div><a href=\"https://www.fragrantica.com/notes/Amber-54.html\"><span class=\"link-span\"></span></a>Amber</div></div><div style=\"margin: 0.2rem; display: flex; justify-content: center; flex-direction: column; text-align: center; opacity: 0.886308; position: relative;\"><div><img loading=\"lazy\" src=\"https://fimgs.net/mdimg/sastojci/t.4.jpg\" style=\"width: 3.225rem;\"/></div><div><a href=\"https://www.fragrantica.com/notes/Musk-4.html\"><span class=\"link-span\"></span></a>Musk</div></div><div style=\"margin: 0.2rem; display: flex; justify-content: center; flex-direction: column; text-align: center; opacity: 0.835555; position: relative;\"><div><img loading=\"lazy\" src=\"https://fimgs.net/mdimg/sastojci/t.74.jpg\" style=\"width: 2.95rem;\"/></div><div><a href=\"https://www.fragrantica.com/notes/Vanilla-74.html\"><span class=\"link-span\"></span></a>Vanilla</div></div></div>]"
      ]
     },
     "execution_count": 69,
     "metadata": {},
     "output_type": "execute_result"
    }
   ],
   "source": [
    "notes"
   ]
  },
  {
   "cell_type": "code",
   "execution_count": 83,
   "id": "partial-decrease",
   "metadata": {},
   "outputs": [
    {
     "data": {
      "text/plain": [
       "6"
      ]
     },
     "execution_count": 83,
     "metadata": {},
     "output_type": "execute_result"
    }
   ],
   "source": [
    "len(notes[0].find_all(\"span\", class_=\"link-span\"))"
   ]
  },
  {
   "cell_type": "code",
   "execution_count": 84,
   "id": "western-majority",
   "metadata": {},
   "outputs": [
    {
     "data": {
      "text/plain": [
       "8"
      ]
     },
     "execution_count": 84,
     "metadata": {},
     "output_type": "execute_result"
    }
   ],
   "source": [
    "len(notes[1].find_all(\"span\", class_=\"link-span\"))"
   ]
  },
  {
   "cell_type": "code",
   "execution_count": 85,
   "id": "aging-brother",
   "metadata": {},
   "outputs": [
    {
     "data": {
      "text/plain": [
       "6"
      ]
     },
     "execution_count": 85,
     "metadata": {},
     "output_type": "execute_result"
    }
   ],
   "source": [
    "len(notes[2].find_all(\"span\", class_=\"link-span\"))"
   ]
  },
  {
   "cell_type": "code",
   "execution_count": 59,
   "id": "sapphire-classroom",
   "metadata": {},
   "outputs": [
    {
     "name": "stdout",
     "output_type": "stream",
     "text": [
      "Geranium\n",
      "Rosemary\n",
      "Bergamot\n",
      "Orange\n",
      "Petitgrain\n",
      "Amalfi Lemon\n",
      " 0 is Out of Index Range\n",
      "Carnation\n",
      "Patchouli\n",
      "Sandalwood\n",
      "Orris\n",
      "tincture of rose\n",
      "Virginia Cedar\n",
      "Cinnamon\n",
      "Orange Blossom\n",
      "Orange Blossom\n",
      " 1 is Out of Index Range\n",
      "Leather\n",
      "Castoreum\n",
      "oak moss\n",
      "Amber\n",
      "Musk\n",
      "Vanilla\n",
      " 2 is Out of Index Range\n"
     ]
    }
   ],
   "source": [
    "j = 0\n",
    "\n",
    "for i in range(len(notes)):\n",
    "    try:\n",
    "        print(notes[i].find_all(\"div\")[j].get_text())\n",
    "        print(notes[i].find_all(\"div\")[j+3].get_text())\n",
    "        print(notes[i].find_all(\"div\")[j+6].get_text())\n",
    "        print(notes[i].find_all(\"div\")[j+9].get_text())\n",
    "        print(notes[i].find_all(\"div\")[j+12].get_text())\n",
    "        print(notes[i].find_all(\"div\")[j+15].get_text())\n",
    "        print(notes[i].find_all(\"div\")[j+18].get_text())\n",
    "        print(notes[i].find_all(\"div\")[j+21].get_text())\n",
    "        print(notes[i].find_all(\"div\")[j+23].get_text())\n",
    "        print(notes[i].find_all(\"div\")[j+25].get_text())\n",
    "    except IndexError:\n",
    "        print(f\" {i} is Out of Index Range\")"
   ]
  },
  {
   "cell_type": "code",
   "execution_count": 98,
   "id": "alone-investigation",
   "metadata": {},
   "outputs": [
    {
     "name": "stdout",
     "output_type": "stream",
     "text": [
      "Carnation\n",
      "Patchouli\n",
      "Sandalwood\n",
      "Orris\n",
      "tincture of rose\n",
      "Virginia Cedar\n",
      "Cinnamon\n",
      "Orange Blossom\n"
     ]
    }
   ],
   "source": [
    "#for i in range(len(notes[0].find_all(\"span\", class_=\"link-span\"))):\n",
    "    print(notes[1].find_all(\"div\")[2].get_text())\n",
    "    print(notes[1].find_all(\"div\")[5].get_text())\n",
    "    print(notes[1].find_all(\"div\")[8].get_text())\n",
    "    print(notes[1].find_all(\"div\")[11].get_text())\n",
    "    print(notes[1].find_all(\"div\")[14].get_text())\n",
    "    print(notes[1].find_all(\"div\")[17].get_text())\n",
    "    print(notes[1].find_all(\"div\")[20].get_text())\n",
    "    print(notes[1].find_all(\"div\")[23].get_text())"
   ]
  },
  {
   "cell_type": "code",
   "execution_count": 99,
   "id": "frank-evidence",
   "metadata": {},
   "outputs": [
    {
     "name": "stdout",
     "output_type": "stream",
     "text": [
      "Carnation\n",
      "\n",
      "Carnation\n",
      "Patchouli\n",
      "\n",
      "Patchouli\n",
      "Sandalwood\n",
      "\n"
     ]
    }
   ],
   "source": [
    "i = 2\n",
    "\n",
    "for i in range(len(notes[1].find_all(\"span\", class_=\"link-span\"))):\n",
    "    print(notes[1].find_all(\"div\")[i].get_text())\n",
    "    i += 3\n",
    "    \n",
    "#     i = 0 // i = 2\n",
    "#     i = 1 // i = 4\n",
    "#     i = 2 // i = \n"
   ]
  },
  {
   "cell_type": "code",
   "execution_count": null,
   "id": "inappropriate-highland",
   "metadata": {},
   "outputs": [],
   "source": [
    "#all voting chart numbers\n",
    "\n",
    "voting = soup.find_all(\"div\", class_=\"cell small-1 medium-1 large-1\")\n",
    "\n",
    "\n",
    "#Longevity\n",
    "\n",
    "long_v_weak = int(voting[0].get_text())\n",
    "long_weak = int(voting[1].get_text())\n",
    "long_moderate = int(voting[2].get_text())\n",
    "long_long_last = int(voting[3].get_text())\n",
    "long_eternal = int(voting[4].get_text())\n",
    "\n",
    "#Sillage\n",
    "\n",
    "sill_intimate = int(voting[5].get_text())\n",
    "sill_moderate = int(voting[6].get_text())\n",
    "sill_strong = int(voting[7].get_text())\n",
    "sill_enormus = int(voting[8].get_text())\n",
    "\n",
    "#Gender\n",
    "\n",
    "gender_female = int(voting[9].get_text())\n",
    "gender_more_fem = int(voting[10].get_text())\n",
    "gender_unisex = int(voting[11].get_text())\n",
    "gender_more_male = int(voting[12].get_text())\n",
    "gender_male = int(voting[13].get_text())\n",
    "\n",
    "#Price Value\n",
    "value_w_over = int(voting[14].get_text())\n",
    "value_over = int(voting[15].get_text())\n",
    "value_ok = int(voting[16].get_text())\n",
    "value_good = int(voting[17].get_text())\n",
    "value_great = int(voting[18].get_text())"
   ]
  },
  {
   "cell_type": "code",
   "execution_count": null,
   "id": "expanded-static",
   "metadata": {},
   "outputs": [],
   "source": []
  },
  {
   "cell_type": "code",
   "execution_count": null,
   "id": "about-disposition",
   "metadata": {},
   "outputs": [],
   "source": [
    "browser.back()"
   ]
  },
  {
   "cell_type": "code",
   "execution_count": null,
   "id": "blind-bunny",
   "metadata": {},
   "outputs": [],
   "source": [
    "voting"
   ]
  },
  {
   "cell_type": "code",
   "execution_count": null,
   "id": "fifteen-smoke",
   "metadata": {},
   "outputs": [],
   "source": []
  }
 ],
 "metadata": {
  "kernelspec": {
   "display_name": "Python 3",
   "language": "python",
   "name": "python3"
  },
  "language_info": {
   "codemirror_mode": {
    "name": "ipython",
    "version": 3
   },
   "file_extension": ".py",
   "mimetype": "text/x-python",
   "name": "python",
   "nbconvert_exporter": "python",
   "pygments_lexer": "ipython3",
   "version": "3.6.12"
  }
 },
 "nbformat": 4,
 "nbformat_minor": 5
}
