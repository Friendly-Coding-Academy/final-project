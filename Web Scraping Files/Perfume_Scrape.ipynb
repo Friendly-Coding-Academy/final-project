{
 "cells": [
  {
   "cell_type": "code",
   "execution_count": 1,
   "id": "opened-brief",
   "metadata": {},
   "outputs": [],
   "source": [
    "from splinter import Browser\n",
    "from bs4 import BeautifulSoup as bs\n",
    "import time\n",
    "from webdriver_manager.chrome import ChromeDriverManager\n",
    "import requests\n",
    "import pandas as pd\n",
    "import re\n",
    "import selenium\n",
    "from pandas import DataFrame"
   ]
  },
  {
   "cell_type": "code",
   "execution_count": 2,
   "id": "stretch-alloy",
   "metadata": {},
   "outputs": [],
   "source": [
    "def init_browser():\n",
    "    # @NOTE: Replace the path with your actual path to the chromedriver\n",
    "    executable_path = {\"executable_path\": ChromeDriverManager().install()}\n",
    "    return Browser(\"chrome\", **executable_path, headless=False)"
   ]
  },
  {
   "cell_type": "code",
   "execution_count": 3,
   "id": "monetary-steering",
   "metadata": {},
   "outputs": [
    {
     "name": "stderr",
     "output_type": "stream",
     "text": [
      "[WDM] - ====== WebDriver manager ======\n",
      "[WDM] - Current google-chrome version is 88.0.4324\n",
      "[WDM] - Get LATEST driver version for 88.0.4324\n",
      "[WDM] - Driver [/Users/jenniferdean/.wdm/drivers/chromedriver/mac64/88.0.4324.96/chromedriver] found in cache\n"
     ]
    },
    {
     "name": "stdout",
     "output_type": "stream",
     "text": [
      "\n",
      "\n"
     ]
    }
   ],
   "source": [
    "browser = init_browser()\n",
    "url = \"https://www.fragrantica.com/search/\"\n",
    "browser.visit(url)"
   ]
  },
  {
   "cell_type": "code",
   "execution_count": 4,
   "id": "absent-ultimate",
   "metadata": {},
   "outputs": [],
   "source": [
    "html = browser.html\n",
    "soup = bs(html, \"html.parser\")"
   ]
  },
  {
   "cell_type": "code",
   "execution_count": 10,
   "id": "choice-shift",
   "metadata": {},
   "outputs": [
    {
     "data": {
      "text/plain": [
       "[<div class=\"card-section\"><img src=\"https://fimgs.net/mdimg/perfume/m.33519.jpg\"/></div>,\n",
       " <div class=\"card-section\"><p><a href=\"https://www.fragrantica.com/perfume/Maison-Francis-Kurkdjian/Baccarat-Rouge-540-33519.html\"> Baccarat Rouge 540\n",
       "                             <span class=\"link-span\"></span></a></p> <p><small>Maison Francis Kurkdjian</small></p></div>,\n",
       " <div class=\"card-section\"><img src=\"https://fimgs.net/mdimg/perfume/m.707.jpg\"/></div>,\n",
       " <div class=\"card-section\"><p><a href=\"https://www.fragrantica.com/perfume/Mugler/Alien-707.html\"> Alien\n",
       "                             <span class=\"link-span\"></span></a></p> <p><small>Mugler</small></p></div>,\n",
       " <div class=\"card-section\"><img src=\"https://fimgs.net/mdimg/perfume/m.1825.jpg\"/></div>,\n",
       " <div class=\"card-section\"><p><a href=\"https://www.fragrantica.com/perfume/Tom-Ford/Tobacco-Vanille-1825.html\"> Tobacco Vanille\n",
       "                             <span class=\"link-span\"></span></a></p> <p><small>Tom Ford</small></p></div>,\n",
       " <div class=\"card-section\"><img src=\"https://fimgs.net/mdimg/perfume/m.9828.jpg\"/></div>,\n",
       " <div class=\"card-section\"><p><a href=\"https://www.fragrantica.com/perfume/Creed/Aventus-9828.html\"> Aventus\n",
       "                             <span class=\"link-span\"></span></a></p> <p><small>Creed</small></p></div>,\n",
       " <div class=\"card-section\"><img src=\"https://fimgs.net/mdimg/perfume/m.1018.jpg\"/></div>,\n",
       " <div class=\"card-section\"><p><a href=\"https://www.fragrantica.com/perfume/Tom-Ford/Black-Orchid-1018.html\"> Black Orchid\n",
       "                             <span class=\"link-span\"></span></a></p> <p><small>Tom Ford</small></p></div>,\n",
       " <div class=\"card-section\"><img src=\"https://fimgs.net/mdimg/perfume/m.611.jpg\"/></div>,\n",
       " <div class=\"card-section\"><p><a href=\"https://www.fragrantica.com/perfume/Chanel/Coco-Mademoiselle-611.html\"> Coco Mademoiselle\n",
       "                             <span class=\"link-span\"></span></a></p> <p><small>Chanel</small></p></div>,\n",
       " <div class=\"card-section\"><img src=\"https://fimgs.net/mdimg/perfume/m.25324.jpg\"/></div>,\n",
       " <div class=\"card-section\"><p><a href=\"https://www.fragrantica.com/perfume/Yves-Saint-Laurent/Black-Opium-25324.html\"> Black Opium\n",
       "                             <span class=\"link-span\"></span></a></p> <p><small>Yves Saint Laurent</small></p></div>,\n",
       " <div class=\"card-section\"><img src=\"https://fimgs.net/mdimg/perfume/m.5521.jpg\"/></div>,\n",
       " <div class=\"card-section\"><p><a href=\"https://www.fragrantica.com/perfume/Yves-Saint-Laurent/La-Nuit-de-l-Homme-5521.html\"> La Nuit de l'Homme\n",
       "                             <span class=\"link-span\"></span></a></p> <p><small>Yves Saint Laurent</small></p></div>,\n",
       " <div class=\"card-section\"><img src=\"https://fimgs.net/mdimg/perfume/m.219.jpg\"/></div>,\n",
       " <div class=\"card-section\"><p><a href=\"https://www.fragrantica.com/perfume/Christian-Dior/Hypnotic-Poison-219.html\"> Hypnotic Poison\n",
       "                             <span class=\"link-span\"></span></a></p> <p><small>Christian Dior</small></p></div>,\n",
       " <div class=\"card-section\"><img src=\"https://fimgs.net/mdimg/perfume/m.14982.jpg\"/></div>,\n",
       " <div class=\"card-section\"><p><a href=\"https://www.fragrantica.com/perfume/Lancome/La-Vie-Est-Belle-14982.html\"> La Vie Est Belle\n",
       "                             <span class=\"link-span\"></span></a></p> <p><small>Lancome</small></p></div>,\n",
       " <div class=\"card-section\"><img src=\"https://fimgs.net/mdimg/perfume/m.31861.jpg\"/></div>,\n",
       " <div class=\"card-section\"><p><a href=\"https://www.fragrantica.com/perfume/Christian-Dior/Sauvage-31861.html\"> Sauvage \n",
       "                             <span class=\"link-span\"></span></a></p> <p><small>Christian Dior</small></p></div>,\n",
       " <div class=\"card-section\"><img src=\"https://fimgs.net/mdimg/perfume/m.29727.jpg\"/></div>,\n",
       " <div class=\"card-section\"><p><a href=\"https://www.fragrantica.com/perfume/Giorgio-Armani/Acqua-di-Gio-Profumo-29727.html\"> Acqua di Gio Profumo\n",
       "                             <span class=\"link-span\"></span></a></p> <p><small>Giorgio Armani</small></p></div>,\n",
       " <div class=\"card-section\"><img src=\"https://fimgs.net/mdimg/perfume/m.1834.jpg\"/></div>,\n",
       " <div class=\"card-section\"><p><a href=\"https://www.fragrantica.com/perfume/Lalique/Encre-Noire-1834.html\"> Encre Noire\n",
       "                             <span class=\"link-span\"></span></a></p> <p><small>Lalique</small></p></div>,\n",
       " <div class=\"card-section\"><img src=\"https://fimgs.net/mdimg/perfume/m.34696.jpg\"/></div>,\n",
       " <div class=\"card-section\"><p><a href=\"https://www.fragrantica.com/perfume/Armaf/Club-de-Nuit-Intense-Man-34696.html\"> Club de Nuit Intense Man\n",
       "                             <span class=\"link-span\"></span></a></p> <p><small>Armaf</small></p></div>,\n",
       " <div class=\"card-section\"><img src=\"https://fimgs.net/mdimg/perfume/m.13016.jpg\"/></div>,\n",
       " <div class=\"card-section\"><p><a href=\"https://www.fragrantica.com/perfume/Christian-Dior/Dior-Homme-Intense-2011-13016.html\"> Dior Homme Intense 2011\n",
       "                             <span class=\"link-span\"></span></a></p> <p><small>Christian Dior</small></p></div>,\n",
       " <div class=\"card-section\"><img src=\"https://fimgs.net/mdimg/perfume/m.43297.jpg\"/></div>,\n",
       " <div class=\"card-section\"><p><a href=\"https://www.fragrantica.com/perfume/Guerlain/Mon-Guerlain-43297.html\"> Mon Guerlain\n",
       "                             <span class=\"link-span\"></span></a></p> <p><small>Guerlain</small></p></div>,\n",
       " <div class=\"card-section\"><img src=\"https://fimgs.net/mdimg/perfume/m.704.jpg\"/></div>,\n",
       " <div class=\"card-section\"><p><a href=\"https://www.fragrantica.com/perfume/Mugler/Angel-704.html\"> Angel\n",
       "                             <span class=\"link-span\"></span></a></p> <p><small>Mugler</small></p></div>,\n",
       " <div class=\"card-section\"><img src=\"https://fimgs.net/mdimg/perfume/m.56077.jpg\"/></div>,\n",
       " <div class=\"card-section\"><p><a href=\"https://www.fragrantica.com/perfume/Yves-Saint-Laurent/Libre-56077.html\"> Libre\n",
       "                             <span class=\"link-span\"></span></a></p> <p><small>Yves Saint Laurent</small></p></div>,\n",
       " <div class=\"card-section\"><img src=\"https://fimgs.net/mdimg/perfume/m.485.jpg\"/></div>,\n",
       " <div class=\"card-section\"><p><a href=\"https://www.fragrantica.com/perfume/Dolce-Gabbana/Light-Blue-485.html\"> Light Blue\n",
       "                             <span class=\"link-span\"></span></a></p> <p><small>Dolce&amp;Gabbana</small></p></div>,\n",
       " <div class=\"card-section\"><img src=\"https://fimgs.net/mdimg/perfume/m.17.jpg\"/></div>,\n",
       " <div class=\"card-section\"><p><a href=\"https://www.fragrantica.com/perfume/Hermes/Terre-d-Hermes-17.html\"> Terre d'Hermes\n",
       "                             <span class=\"link-span\"></span></a></p> <p><small>Hermès</small></p></div>,\n",
       " <div class=\"card-section\"><img src=\"https://fimgs.net/mdimg/perfume/m.16657.jpg\"/></div>,\n",
       " <div class=\"card-section\"><p><a href=\"https://www.fragrantica.com/perfume/Versace/Eros-16657.html\"> Eros\n",
       "                             <span class=\"link-span\"></span></a></p> <p><small>Versace</small></p></div>,\n",
       " <div class=\"card-section\"><img src=\"https://fimgs.net/mdimg/perfume/m.39681.jpg\"/></div>,\n",
       " <div class=\"card-section\"><p><a href=\"https://www.fragrantica.com/perfume/Carolina-Herrera/Good-Girl-39681.html\"> Good Girl\n",
       "                             <span class=\"link-span\"></span></a></p> <p><small>Carolina Herrera</small></p></div>,\n",
       " <div class=\"card-section\"><img src=\"https://fimgs.net/mdimg/perfume/m.631.jpg\"/></div>,\n",
       " <div class=\"card-section\"><p><a href=\"https://www.fragrantica.com/perfume/Versace/Crystal-Noir-631.html\"> Crystal Noir\n",
       "                             <span class=\"link-span\"></span></a></p> <p><small>Versace</small></p></div>,\n",
       " <div class=\"card-section\"><img src=\"https://fimgs.net/mdimg/perfume/m.39029.jpg\"/></div>,\n",
       " <div class=\"card-section\"><p><a href=\"https://www.fragrantica.com/perfume/Prada/Prada-L-Homme-39029.html\"> Prada L'Homme\n",
       "                             <span class=\"link-span\"></span></a></p> <p><small>Prada</small></p></div>,\n",
       " <div class=\"card-section\"><img src=\"https://fimgs.net/mdimg/perfume/m.50384.jpg\"/></div>,\n",
       " <div class=\"card-section\"><p><a href=\"https://www.fragrantica.com/perfume/Ariana-Grande/Cloud-50384.html\"> Cloud\n",
       "                             <span class=\"link-span\"></span></a></p> <p><small>Ariana Grande</small></p></div>,\n",
       " <div class=\"card-section\"><img src=\"https://fimgs.net/mdimg/perfume/m.31909.jpg\"/></div>,\n",
       " <div class=\"card-section\"><p><a href=\"https://www.fragrantica.com/perfume/Dolce-Gabbana/The-One-for-Men-Eau-de-Parfum-31909.html\"> The One for Men Eau de Parfum\n",
       "                             <span class=\"link-span\"></span></a></p> <p><small>Dolce&amp;Gabbana</small></p></div>,\n",
       " <div class=\"card-section\"><img src=\"https://fimgs.net/mdimg/perfume/m.39314.jpg\"/></div>,\n",
       " <div class=\"card-section\"><p><a href=\"https://www.fragrantica.com/perfume/Parfums-de-Marly/Layton-39314.html\"> Layton\n",
       "                             <span class=\"link-span\"></span></a></p> <p><small>Parfums de Marly</small></p></div>,\n",
       " <div class=\"card-section\"><img src=\"https://fimgs.net/mdimg/perfume/m.210.jpg\"/></div>,\n",
       " <div class=\"card-section\"><p><a href=\"https://www.fragrantica.com/perfume/Christian-Dior/J-adore-210.html\"> J'adore\n",
       "                             <span class=\"link-span\"></span></a></p> <p><small>Christian Dior</small></p></div>,\n",
       " <div class=\"card-section\"><img src=\"https://fimgs.net/mdimg/perfume/m.31623.jpg\"/></div>,\n",
       " <div class=\"card-section\"><p><a href=\"https://www.fragrantica.com/perfume/Maison-Martin-Margiela/By-the-Fireplace-31623.html\"> By the Fireplace\n",
       "                             <span class=\"link-span\"></span></a></p> <p><small>Maison Martin Margiela</small></p></div>,\n",
       " <div class=\"card-section\"><img src=\"https://fimgs.net/mdimg/perfume/m.9099.jpg\"/></div>,\n",
       " <div class=\"card-section\"><p><a href=\"https://www.fragrantica.com/perfume/Chanel/Bleu-de-Chanel-9099.html\"> Bleu de Chanel\n",
       "                             <span class=\"link-span\"></span></a></p> <p><small>Chanel</small></p></div>]"
      ]
     },
     "execution_count": 10,
     "metadata": {},
     "output_type": "execute_result"
    }
   ],
   "source": [
    "soup.find_all(\"div\", class_=\"card-section\")"
   ]
  },
  {
   "cell_type": "code",
   "execution_count": 35,
   "id": "arbitrary-mixture",
   "metadata": {},
   "outputs": [],
   "source": [
    "block1 = soup.find(\"span\", class_=\"grid-x grid-margin-x grid-margin-y small-up-3 medium-up-2 large-up-4 perfumes-row text-center\")"
   ]
  },
  {
   "cell_type": "code",
   "execution_count": 38,
   "id": "italic-arizona",
   "metadata": {},
   "outputs": [
    {
     "name": "stdout",
     "output_type": "stream",
     "text": [
      "Baccarat Rouge 540\n",
      "Alien\n",
      "Tobacco Vanille\n",
      "Aventus\n",
      "Black Orchid\n",
      "Coco Mademoiselle\n",
      "Black Opium\n",
      "La Nuit de l'Homme\n",
      "Hypnotic Poison\n",
      "La Vie Est Belle\n",
      "Sauvage\n",
      "Acqua di Gio Profumo\n",
      "Encre Noire\n",
      "Club de Nuit Intense Man\n",
      "Dior Homme Intense 2011\n",
      "Mon Guerlain\n",
      "Angel\n",
      "Libre\n",
      "Light Blue\n",
      "Terre d'Hermes\n",
      "Eros\n",
      "Good Girl\n",
      "Crystal Noir\n",
      "Prada L'Homme\n",
      "Cloud\n",
      "The One for Men Eau de Parfum\n",
      "Layton\n",
      "J'adore\n",
      "By the Fireplace\n",
      "Bleu de Chanel\n"
     ]
    }
   ],
   "source": [
    "for perf_text in block1.find_all(\"a\", href=True):\n",
    "    perf_name = perf_text.get_text()\n",
    "    print(perf_name.replace('\\n', '').strip(\" \"))"
   ]
  },
  {
   "cell_type": "code",
   "execution_count": 37,
   "id": "acknowledged-devil",
   "metadata": {},
   "outputs": [
    {
     "name": "stdout",
     "output_type": "stream",
     "text": [
      "Maison Francis Kurkdjian\n",
      "Mugler\n",
      "Tom Ford\n",
      "Creed\n",
      "Tom Ford\n",
      "Chanel\n",
      "Yves Saint Laurent\n",
      "Yves Saint Laurent\n",
      "Christian Dior\n",
      "Lancome\n",
      "Christian Dior\n",
      "Giorgio Armani\n",
      "Lalique\n",
      "Armaf\n",
      "Christian Dior\n",
      "Guerlain\n",
      "Mugler\n",
      "Yves Saint Laurent\n",
      "Dolce&Gabbana\n",
      "Hermès\n",
      "Versace\n",
      "Carolina Herrera\n",
      "Versace\n",
      "Prada\n",
      "Ariana Grande\n",
      "Dolce&Gabbana\n",
      "Parfums de Marly\n",
      "Christian Dior\n",
      "Maison Martin Margiela\n",
      "Chanel\n"
     ]
    }
   ],
   "source": [
    "#COMPANY NAME\n",
    "\n",
    "for company_text in block1.find_all(\"p\"):\n",
    "    if company_text.small != None:  \n",
    "        print (company_text.small.get_text())"
   ]
  },
  {
   "cell_type": "code",
   "execution_count": null,
   "id": "saving-vacuum",
   "metadata": {},
   "outputs": [],
   "source": []
  }
 ],
 "metadata": {
  "kernelspec": {
   "display_name": "Python 3",
   "language": "python",
   "name": "python3"
  },
  "language_info": {
   "codemirror_mode": {
    "name": "ipython",
    "version": 3
   },
   "file_extension": ".py",
   "mimetype": "text/x-python",
   "name": "python",
   "nbconvert_exporter": "python",
   "pygments_lexer": "ipython3",
   "version": "3.6.12"
  }
 },
 "nbformat": 4,
 "nbformat_minor": 5
}
